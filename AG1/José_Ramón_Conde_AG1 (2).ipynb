{
  "nbformat": 4,
  "nbformat_minor": 0,
  "metadata": {
    "colab": {
      "name": "José Ramón Conde - AG1.ipynb",
      "provenance": [],
      "collapsed_sections": [],
      "include_colab_link": true
    },
    "kernelspec": {
      "name": "python3",
      "display_name": "Python 3"
    }
  },
  "cells": [
    {
      "cell_type": "markdown",
      "metadata": {
        "id": "view-in-github",
        "colab_type": "text"
      },
      "source": [
        "<a href=\"https://colab.research.google.com/github/Joracosu/03MAIR---Algoritmos-de-Optimizacion---2019/blob/master/AG1/Jos%C3%A9_Ram%C3%B3n_Conde_AG1%20(2).ipynb\" target=\"_parent\"><img src=\"https://colab.research.google.com/assets/colab-badge.svg\" alt=\"Open In Colab\"/></a>"
      ]
    },
    {
      "cell_type": "markdown",
      "metadata": {
        "id": "aCpY0pNqqAMj",
        "colab_type": "text"
      },
      "source": [
        "Actividad Guiada 1 de Algoritmos de Optimización\n",
        "\n",
        "José Ramón Conde Suárez\n",
        "\n",
        "https://colab.research.google.com/drive/1b0od-aP07ucKhmEqv2oQXfaofBG7L6km"
      ]
    },
    {
      "cell_type": "markdown",
      "metadata": {
        "id": "afjeL1CiWxPZ",
        "colab_type": "text"
      },
      "source": [
        "### Ejercicio de las torres de Hanói"
      ]
    },
    {
      "cell_type": "code",
      "metadata": {
        "id": "wGr4zF6eqUZp",
        "colab_type": "code",
        "colab": {}
      },
      "source": [
        "def torres (N, desde, hasta):\n",
        "  if N==1:\n",
        "    print('Lleva la ficha desde', str(desde),'hasta',str(hasta))\n",
        "  else:\n",
        "    torres(N-1, desde, 6-desde-hasta)\n",
        "    print('Lleva la ficha desde', str(desde), 'hasta', str(hasta))\n",
        "    torres(N-1, 6-desde-hasta, hasta)\n",
        "\n",
        "# torres(3, 1, 3)"
      ],
      "execution_count": 0,
      "outputs": []
    },
    {
      "cell_type": "markdown",
      "metadata": {
        "id": "zfeve6kvWwHG",
        "colab_type": "text"
      },
      "source": [
        "### Ejercicio de las n reinas"
      ]
    },
    {
      "cell_type": "code",
      "metadata": {
        "id": "pzziAn36G5TW",
        "colab_type": "code",
        "colab": {}
      },
      "source": [
        "def reinas(N, solucion, etapa, j=0):\n",
        "  for i in range(1, N + 1):\n",
        "    solucion[etapa] = i\n",
        "    if es_prometedora(solucion, etapa):\n",
        "      if etapa == N - 1:\n",
        "        j = j + 1\n",
        "        print('Una solución es [',j,']:', solucion)\n",
        "      else:\n",
        "        j = reinas(N, solucion, etapa + 1, j)\n",
        "    solucion[etapa] = 0\n",
        "  return j\n",
        "\n",
        "def es_prometedora(SOLUCION, etapa):\n",
        "  for i in range(etapa + 1):\n",
        "    if SOLUCION.count(SOLUCION[i]) > 1: return False\n",
        "    for j in range(i + 1, etapa + 1):\n",
        "      if abs(i-j) == abs(SOLUCION[i] - SOLUCION[j]): return False\n",
        "  return True\n",
        "\n",
        "# print('Total',reinas(8,([0,0,0,0,0,0,0,0]),0),'soluciones')\n"
      ],
      "execution_count": 0,
      "outputs": []
    },
    {
      "cell_type": "markdown",
      "metadata": {
        "id": "UfiSfOtJXGG0",
        "colab_type": "text"
      },
      "source": [
        "### Ejercicio de vecinos más cercanos"
      ]
    },
    {
      "cell_type": "code",
      "metadata": {
        "id": "uLgJ5c_PXBOK",
        "colab_type": "code",
        "colab": {}
      },
      "source": [
        "def distancia(p1, p2):\n",
        "  d = 0\n",
        "  if isinstance(p1, int): \n",
        "    r = range(1)\n",
        "    d += (p1 - p2) ** 2\n",
        "  else:\n",
        "    r = range(len(p1))\n",
        "    for i in r:\n",
        "      d += (p1[i] - p2[i]) ** 2\n",
        "  return (d) ** 0.5\n"
      ],
      "execution_count": 0,
      "outputs": []
    },
    {
      "cell_type": "markdown",
      "metadata": {
        "id": "yFWX3k325ZvX",
        "colab_type": "text"
      },
      "source": [
        "#### Una dimension"
      ]
    },
    {
      "cell_type": "code",
      "metadata": {
        "id": "5A2LDloIIdiq",
        "colab_type": "code",
        "outputId": "df2fe8ce-173b-42ba-b221-4d73c97edd81",
        "colab": {
          "base_uri": "https://localhost:8080/",
          "height": 134
        }
      },
      "source": [
        "import random\n",
        "from time import time\n",
        "\n",
        "def puntos_mas_cercanos_bruto(lista):\n",
        "  minimo=(distancia(max(lista),min(lista))+1)*2\n",
        "  for i in range(len(lista)-1):\n",
        "    for j in range(i+1,len(lista)):\n",
        "      p, q = lista[i], lista[j]\n",
        "      if distancia(p, q) < minimo:\n",
        "        minimo = distancia(p, q)\n",
        "        pareja = [[p, q]]\n",
        "      elif distancia(p, q) == minimo:\n",
        "        pareja += [[p, q]]\n",
        "  return minimo, pareja\n",
        "\n",
        "\n",
        "def puntos_mas_cercanos_divide(lista):\n",
        "  # para aplicar el método, lo primero es ordenar la lista\n",
        "  lista = sorted(lista)\n",
        "  if len(lista) <= 3:\n",
        "    # cuando la división resulta en una lista de tamaño 3 o menor\n",
        "    min_0, pareja_0 = puntos_mas_cercanos_bruto(lista)\n",
        "  else:\n",
        "    # se divide la lista en dos partes\n",
        "    largo = len(lista)\n",
        "    lista_1 = lista[:int(largo/2)]\n",
        "    lista_2 = lista[int(largo - largo/2):]\n",
        "    # se aplica recurrentemente el algoritmo a cada división\n",
        "    min_1, pareja_1 = puntos_mas_cercanos_divide(lista_1)\n",
        "    min_2, pareja_2 = puntos_mas_cercanos_divide(lista_2)\n",
        "\n",
        "    # Estudio de la frontera:\n",
        "    #    Al tratarse de una sola dimensión, solo hay que estudiar los puntos que separan las dos listas\n",
        "    p, q = lista_1[len(lista_1)-1], lista_2[0]\n",
        "    min_3, pareja_3 = distancia(p, q), [[p, q]]\n",
        "\n",
        "    # se almacenan todas las parejas de puntos de la distancia mínima\n",
        "    # min_0 = min(min_1, min_2, min_3)\n",
        "    if min_1 == min_2:\n",
        "      if min_1 == min_3:\n",
        "        min_0, pareja_0 = min_1, pareja_1 + pareja_3 + pareja_2\n",
        "      elif min_1 < min_3:\n",
        "        min_0, pareja_0 = min_1, pareja_1 + pareja_2\n",
        "      else:\n",
        "        min_0, pareja_0 = min_3, pareja_3\n",
        "    elif min_1 > min_2:\n",
        "      if min_2 == min_3:\n",
        "        min_0, pareja_0 = min_2, pareja_3 + pareja_2\n",
        "      elif min_2 < min_3:\n",
        "        min_0, pareja_0 = min_2, pareja_2\n",
        "      else:\n",
        "        min_0, pareja_0 = min_3, pareja_3\n",
        "    else:\n",
        "      if min_1 == min_3:\n",
        "        min_0, pareja_0 = min_1, pareja_1 + pareja_3\n",
        "      elif min_1 < min_3:\n",
        "        min_0, pareja_0 = min_1, pareja_1\n",
        "      else:\n",
        "        min_0, pareja_0 = min_3, pareja_3\n",
        "\n",
        "  return min_0, pareja_0\n",
        "\n",
        "lista_de_numeros = [random.randrange(-50000000,50000000) for x in range(3000)]\n",
        "lista = sorted(lista_de_numeros)\n",
        "\n",
        "print('Fuerza bruta')\n",
        "tiempo_1 = time()\n",
        "print(puntos_mas_cercanos_bruto(lista))\n",
        "tiempo_2 = time()\n",
        "print (tiempo_2 - tiempo_1)\n",
        "\n",
        "print('\\nDivide y vencerás')\n",
        "tiempo_1 = time()\n",
        "print(puntos_mas_cercanos_divide(lista))\n",
        "tiempo_2 = time()\n",
        "print (tiempo_2 - tiempo_1)\n"
      ],
      "execution_count": 165,
      "outputs": [
        {
          "output_type": "stream",
          "text": [
            "Fuerza bruta\n",
            "(10.0, [[35783816, 35783826]])\n",
            "8.185474395751953\n",
            "\n",
            "Divide y vencerás\n",
            "(10.0, [[35783816, 35783826]])\n",
            "0.011207818984985352\n"
          ],
          "name": "stdout"
        }
      ]
    },
    {
      "cell_type": "markdown",
      "metadata": {
        "id": "8Skf25PP6CNC",
        "colab_type": "text"
      },
      "source": [
        "#### Dos dimensiones"
      ]
    },
    {
      "cell_type": "code",
      "metadata": {
        "id": "9ocJ5Qf06GLY",
        "colab_type": "code",
        "outputId": "02fc5aa3-712f-491a-981a-7833fda5b05e",
        "colab": {
          "base_uri": "https://localhost:8080/",
          "height": 134
        }
      },
      "source": [
        "import random\n",
        "from time import time\n",
        "import numpy as np\n",
        "\n",
        "def puntos_mas_cercanos_bruto_2D(lista):\n",
        "  minimo=((((max([k[0] for k in lista])-min([k[0] for k in lista]))**2 + \n",
        "            (max([k[1] for k in lista])-min([k[1] for k in lista]))**2)**0.5)+1)*2\n",
        "  for i in range(len(lista)-1):\n",
        "    for j in range(i+1,len(lista)):\n",
        "      p, q = lista[i], lista[j]\n",
        "      dist = (((p[0]-q[0])**2 + (p[1]-q[1])**2)**0.5)\n",
        "      if dist < minimo:\n",
        "        minimo = dist\n",
        "        pareja = [[p, q]]\n",
        "      elif dist == minimo:\n",
        "        pareja += [[p, q]]\n",
        "  return minimo, pareja\n",
        "\n",
        "def puntos_mas_cercanos_divide_2D(lista):\n",
        "  # para aplicar el método, lo primero es ordenar la lista\n",
        "  lista = sorted(lista)\n",
        "  if len(lista) <= 3:\n",
        "    # cuando la división resulta en una lista de tamaño 3 o menor\n",
        "    min_0, pareja_0 = puntos_mas_cercanos_bruto_2D(lista)\n",
        "  else:\n",
        "    # se divide la lista en dos partes\n",
        "    largo = len(lista)\n",
        "    lista_1 = lista[:int(largo/2)]\n",
        "    lista_2 = lista[int(largo - largo/2):]\n",
        "    p_medio = lista[int(largo/2)-1]\n",
        "    # se aplica recurrentemente el algoritmo a cada división\n",
        "    min_1, pareja_1 = puntos_mas_cercanos_divide_2D(lista_1)\n",
        "    min_2, pareja_2 = puntos_mas_cercanos_divide_2D(lista_2)\n",
        "\n",
        "    # Estudio de la frontera:\n",
        "    #    Al tratarse de dos dimensiones, hay que estudiar TODOS los puntos que se\n",
        "    #    encuentran a una distancia en x menor que la distancia mínima encontrada\n",
        "    #    entre las dos listas. Para ello se crea una lista que contenga dichos \n",
        "    #    puntos independientemente de su Y y se calcula su distancia mínima por \n",
        "    #    fuerza bruta\n",
        "    dm = min(min_1, min_2)\n",
        "    lista = np.array(lista)\n",
        "    # print([abs(i[0] - p_medio[0]) for i in lista])\n",
        "    lista_3 = [tuple(p) for p in list(lista[[abs(i[0] - p_medio[0]) <= dm for i in lista]])]\n",
        "    if len(lista_3)>1: min_3, pareja_3 = puntos_mas_cercanos_bruto_2D(lista_3)\n",
        "    else: min_3 = max(min_1, min_2)+1\n",
        "    # se almacenan todas las parejas de puntos de la distancia mínima\n",
        "    # min_0 = min(min_1, min_2, min_3)\n",
        "    if min_1 == min_2:\n",
        "      if min_1 == min_3:\n",
        "        min_0, pareja_0 = min_1, pareja_1 + pareja_3 + pareja_2\n",
        "      elif min_1 < min_3:\n",
        "        min_0, pareja_0 = min_1, pareja_1 + pareja_2\n",
        "      else:\n",
        "        min_0, pareja_0 = min_3, pareja_3\n",
        "    elif min_1 > min_2:\n",
        "      if min_2 == min_3:\n",
        "        min_0, pareja_0 = min_2, pareja_3 + pareja_2\n",
        "      elif min_2 < min_3:\n",
        "        min_0, pareja_0 = min_2, pareja_2\n",
        "      else:\n",
        "        min_0, pareja_0 = min_3, pareja_3\n",
        "    else:\n",
        "      if min_1 == min_3:\n",
        "        min_0, pareja_0 = min_1, pareja_1 + pareja_3\n",
        "      elif min_1 < min_3:\n",
        "        min_0, pareja_0 = min_1, pareja_1\n",
        "      else:\n",
        "        min_0, pareja_0 = min_3, pareja_3\n",
        "\n",
        "  return min_0, pareja_0\n",
        "\n",
        "\n",
        "precision = 100000\n",
        "lista_de_numeros = [(random.randrange(1,precision), random.randrange(1,precision)) for x in range(3000)]\n",
        "lista = sorted(lista_de_numeros)\n",
        "\n",
        "print('Fuerza bruta')\n",
        "tiempo_1 = time()\n",
        "print(puntos_mas_cercanos_bruto_2D(lista))\n",
        "tiempo_2 = time()\n",
        "print (tiempo_2 - tiempo_1)\n",
        "\n",
        "print('\\nDivide y vencerás')\n",
        "tiempo_1 = time()\n",
        "print(puntos_mas_cercanos_divide_2D(lista))\n",
        "tiempo_2 = time()\n",
        "print (tiempo_2 - tiempo_1)\n"
      ],
      "execution_count": 25,
      "outputs": [
        {
          "output_type": "stream",
          "text": [
            "Fuerza bruta\n",
            "(25.079872407968907, [[(21525, 3551), (21548, 3561)]])\n",
            "4.084599256515503\n",
            "\n",
            "Divide y vencerás\n",
            "(25.079872407968907, [[(21525, 3551), (21548, 3561)]])\n",
            "0.36913299560546875\n"
          ],
          "name": "stdout"
        }
      ]
    },
    {
      "cell_type": "markdown",
      "metadata": {
        "id": "tuWwyWLjYq0Z",
        "colab_type": "text"
      },
      "source": [
        "#### Tres dimensiones"
      ]
    },
    {
      "cell_type": "code",
      "metadata": {
        "id": "vjUk0ddPYrV1",
        "colab_type": "code",
        "outputId": "70fd4716-c89c-4d03-de33-6e53dfc5e86c",
        "colab": {
          "base_uri": "https://localhost:8080/",
          "height": 202
        }
      },
      "source": [
        "import random\n",
        "from time import time\n",
        "import numpy as np\n",
        "\n",
        "def componente_z(punto):\n",
        "    return punto[2]\n",
        "\n",
        "def puntos_mas_cercanos_bruto_3D(lista):\n",
        "  minimo=((((max([k[0] for k in lista])-min([k[0] for k in lista]))**2 + \n",
        "            (max([k[1] for k in lista])-min([k[1] for k in lista]))**2 + \n",
        "            (max([k[2] for k in lista])-min([k[2] for k in lista]))**2)**0.5)+1)*2\n",
        "  for i in range(len(lista)-1):\n",
        "    for j in range(i+1,len(lista)):\n",
        "      p, q = lista[i], lista[j]\n",
        "      dist = (((p[0]-q[0])**2 + (p[1]-q[1])**2 + (p[2]-q[2])**2)**0.5)\n",
        "      if dist < minimo:\n",
        "        minimo = dist\n",
        "        pareja = [[p, q]]\n",
        "      elif dist == minimo:\n",
        "        pareja += [[p, q]]\n",
        "  return minimo, pareja\n",
        "\n",
        "def puntos_mas_cercanos_divide_3D(lista):\n",
        "  # para aplicar el método, lo primero es ordenar la lista\n",
        "  lista = sorted(lista, key=componente_z)\n",
        "  if len(lista) <= 3:\n",
        "    # cuando la división resulta en una lista de tamaño 3 o menor\n",
        "    min_0, pareja_0 = puntos_mas_cercanos_bruto_3D(lista)\n",
        "  else:\n",
        "    # se divide la lista en dos partes\n",
        "    largo = len(lista)\n",
        "    lista_1 = lista[:int(largo/2)]\n",
        "    lista_2 = lista[int(largo - largo/2):]\n",
        "    p_medio = lista[int(largo/2)-1]\n",
        "    # se aplica recurrentemente el algoritmo a cada división\n",
        "    min_1, pareja_1 = puntos_mas_cercanos_divide_3D(lista_1)\n",
        "    min_2, pareja_2 = puntos_mas_cercanos_divide_3D(lista_2)\n",
        "\n",
        "    # Estudio de la frontera:\n",
        "    #    Al tratarse de tres dimensiones, hay que estudiar TODOS los puntos que se\n",
        "    #    encuentran a una distancia en z menor que la distancia mínima encontrada\n",
        "    #    entre las dos listas. Para ello se crea una lista que contenga dichos \n",
        "    #    puntos independientemente de su X y de su Y y se calcula su distancia mínima por \n",
        "    #    divide y venceras en 2D\n",
        "    dm = min(min_1, min_2)\n",
        "    lista = np.array(lista)\n",
        "    # print([abs(i[0] - p_medio[0]) for i in lista])\n",
        "    lista_3 = [tuple(p) for p in list(lista[[abs(i[2] - p_medio[2]) <= dm for i in lista]])]\n",
        "    if len(lista_3)>1: \n",
        "      min_3, pareja_3 = puntos_mas_cercanos_divide_2D(lista_3)\n",
        "      m=pareja_3[0][0]\n",
        "      n=pareja_3[0][1]\n",
        "\n",
        "      min_3 = ((m[0]-n[0])**2 + (m[1]-n[1])**2 + (m[2]-n[2])**2)**0.5\n",
        "    else: min_3 = max(min_1, min_2)+1\n",
        "    print(pareja_1)\n",
        "    print(pareja_2)\n",
        "    print(pareja_3)\n",
        "    # se almacenan todas las parejas de puntos de la distancia mínima\n",
        "    # min_0 = min(min_1, min_2, min_3)\n",
        "    if min_1 == min_2:\n",
        "      if min_1 == min_3:\n",
        "        min_0, pareja_0 = min_1, pareja_1 + pareja_3 + pareja_2\n",
        "      elif min_1 < min_3:\n",
        "        min_0, pareja_0 = min_1, pareja_1 + pareja_2\n",
        "      else:\n",
        "        min_0, pareja_0 = min_3, pareja_3\n",
        "    elif min_1 > min_2:\n",
        "      if min_2 == min_3:\n",
        "        min_0, pareja_0 = min_2, pareja_3 + pareja_2\n",
        "      elif min_2 < min_3:\n",
        "        min_0, pareja_0 = min_2, pareja_2\n",
        "      else:\n",
        "        min_0, pareja_0 = min_3, pareja_3\n",
        "    else:\n",
        "      if min_1 == min_3:\n",
        "        min_0, pareja_0 = min_1, pareja_1 + pareja_3\n",
        "      elif min_1 < min_3:\n",
        "        min_0, pareja_0 = min_1, pareja_1\n",
        "      else:\n",
        "        min_0, pareja_0 = min_3, pareja_3\n",
        "\n",
        "  return min_0, pareja_0\n",
        "\n",
        "\n",
        "precision = 3\n",
        "lista_de_numeros = [(random.randrange(0,precision), \n",
        "                     random.randrange(0,precision), \n",
        "                     random.randrange(0,precision)) for x in range(4)]\n",
        "# lista_de_numeros = [(33215, 183973, 167727), (164858, 198522, 26629), (108751, 14568, 49121), (123376, 188847, 146351)]\n",
        "# lista_de_numeros = [(0, 0, 2), (0, 1, 0), (0, 2, 2), (2, 0, 1)]\n",
        "lista_de_numeros = [(0, 1, 0), (0, 2, 0), (1, 2, 1), (2, 2, 1)]\n",
        "\n",
        "\n",
        "lista = sorted(lista_de_numeros)\n",
        "print(lista)\n",
        "\n",
        "print('Fuerza bruta')\n",
        "tiempo_1 = time()\n",
        "print(puntos_mas_cercanos_bruto_3D(lista))\n",
        "tiempo_2 = time()\n",
        "print (tiempo_2 - tiempo_1)\n",
        "\n",
        "print('\\nDivide y vencerás')\n",
        "tiempo_1 = time()\n",
        "print(puntos_mas_cercanos_divide_3D(lista))\n",
        "tiempo_2 = time()\n",
        "print (tiempo_2 - tiempo_1)\n"
      ],
      "execution_count": 48,
      "outputs": [
        {
          "output_type": "stream",
          "text": [
            "[(0, 1, 0), (0, 2, 0), (1, 2, 1), (2, 2, 1)]\n",
            "Fuerza bruta\n",
            "(1.0, [[(0, 1, 0), (0, 2, 0)], [(1, 2, 1), (2, 2, 1)]])\n",
            "0.0002396106719970703\n",
            "\n",
            "Divide y vencerás\n",
            "[[(0, 1, 0), (0, 2, 0)]]\n",
            "[[(1, 2, 1), (2, 2, 1)]]\n",
            "[[(0, 1, 0), (0, 2, 0)], [(0, 1, 0), (0, 2, 0)], [(0, 2, 0), (1, 2, 1)], [(1, 2, 1), (2, 2, 1)]]\n",
            "(1.0, [[(0, 1, 0), (0, 2, 0)], [(0, 1, 0), (0, 2, 0)], [(0, 1, 0), (0, 2, 0)], [(0, 2, 0), (1, 2, 1)], [(1, 2, 1), (2, 2, 1)], [(1, 2, 1), (2, 2, 1)]])\n",
            "0.0010378360748291016\n"
          ],
          "name": "stdout"
        }
      ]
    }
  ]
}