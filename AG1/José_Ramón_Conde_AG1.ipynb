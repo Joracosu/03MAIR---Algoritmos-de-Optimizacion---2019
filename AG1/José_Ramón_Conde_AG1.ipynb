{
  "nbformat": 4,
  "nbformat_minor": 0,
  "metadata": {
    "colab": {
      "name": "José Ramón Conde - AG1.ipynb",
      "provenance": [],
      "collapsed_sections": [],
      "include_colab_link": true
    },
    "kernelspec": {
      "name": "python3",
      "display_name": "Python 3"
    }
  },
  "cells": [
    {
      "cell_type": "markdown",
      "metadata": {
        "id": "view-in-github",
        "colab_type": "text"
      },
      "source": [
        "<a href=\"https://colab.research.google.com/github/Joracosu/03MAIR---Algoritmos-de-Optimizacion---2019/blob/master/AG1/Jos%C3%A9_Ram%C3%B3n_Conde_AG1.ipynb\" target=\"_parent\"><img src=\"https://colab.research.google.com/assets/colab-badge.svg\" alt=\"Open In Colab\"/></a>"
      ]
    },
    {
      "cell_type": "markdown",
      "metadata": {
        "id": "aCpY0pNqqAMj",
        "colab_type": "text"
      },
      "source": [
        "Actividad Guiada 1 de Algoritmos de Optimización\n",
        "\n",
        "José Ramón Conde Suárez\n",
        "\n",
        "https://colab.research.google.com/drive/1b0od-aP07ucKhmEqv2oQXfaofBG7L6km"
      ]
    },
    {
      "cell_type": "markdown",
      "metadata": {
        "id": "afjeL1CiWxPZ",
        "colab_type": "text"
      },
      "source": [
        "### Ejercicio de las torres de Hanói"
      ]
    },
    {
      "cell_type": "code",
      "metadata": {
        "id": "wGr4zF6eqUZp",
        "colab_type": "code",
        "colab": {}
      },
      "source": [
        "def torres (N, desde, hasta):\n",
        "  if N==1:\n",
        "    print('Lleva la ficha desde', str(desde),'hasta',str(hasta))\n",
        "  else:\n",
        "    torres(N-1, desde, 6-desde-hasta)\n",
        "    print('Lleva la ficha desde', str(desde), 'hasta', str(hasta))\n",
        "    torres(N-1, 6-desde-hasta, hasta)\n",
        "\n",
        "# torres(3, 1, 3)"
      ],
      "execution_count": 0,
      "outputs": []
    },
    {
      "cell_type": "markdown",
      "metadata": {
        "id": "zfeve6kvWwHG",
        "colab_type": "text"
      },
      "source": [
        "### Ejercicio de las n reinas"
      ]
    },
    {
      "cell_type": "code",
      "metadata": {
        "id": "pzziAn36G5TW",
        "colab_type": "code",
        "colab": {}
      },
      "source": [
        "def reinas(N, solucion, etapa, j=0):\n",
        "  for i in range(1, N + 1):\n",
        "    solucion[etapa] = i\n",
        "    if es_prometedora(solucion, etapa):\n",
        "      if etapa == N - 1:\n",
        "        j = j + 1\n",
        "        print('Una solución es [',j,']:', solucion)\n",
        "      else:\n",
        "        j = reinas(N, solucion, etapa + 1, j)\n",
        "    solucion[etapa] = 0\n",
        "  return j\n",
        "\n",
        "def es_prometedora(SOLUCION, etapa):\n",
        "  for i in range(etapa + 1):\n",
        "    if SOLUCION.count(SOLUCION[i]) > 1: return False\n",
        "    for j in range(i + 1, etapa + 1):\n",
        "      if abs(i-j) == abs(SOLUCION[i] - SOLUCION[j]): return False\n",
        "  return True\n",
        "\n",
        "# print('Total',reinas(8,([0,0,0,0,0,0,0,0]),0),'soluciones')\n"
      ],
      "execution_count": 0,
      "outputs": []
    },
    {
      "cell_type": "markdown",
      "metadata": {
        "id": "UfiSfOtJXGG0",
        "colab_type": "text"
      },
      "source": [
        "### Ejercicio de vecinos más cercanos"
      ]
    },
    {
      "cell_type": "markdown",
      "metadata": {
        "id": "yFWX3k325ZvX",
        "colab_type": "text"
      },
      "source": [
        "#### Una dimension"
      ]
    },
    {
      "cell_type": "code",
      "metadata": {
        "id": "5A2LDloIIdiq",
        "colab_type": "code",
        "outputId": "b77ae784-f230-4cb1-f0cf-ac060bc68d45",
        "colab": {
          "base_uri": "https://localhost:8080/",
          "height": 134
        }
      },
      "source": [
        "import random\n",
        "from time import time\n",
        "\n",
        "def puntos_mas_cercanos_bruto(lista):\n",
        "  minimo=(abs(max(lista)-min(lista))+1)*2\n",
        "  for i in range(len(lista)-1):\n",
        "    for j in range(i+1,len(lista)):\n",
        "      p, q = lista[i], lista[j]\n",
        "      if abs(p-q) < minimo:\n",
        "        minimo = abs(p - q)\n",
        "        pareja = [[p, q]]\n",
        "      elif abs(p - q) == minimo:\n",
        "        # print(p,'-',q)\n",
        "        pareja += [[p, q]]\n",
        "  return minimo, pareja\n",
        "\n",
        "\n",
        "def puntos_mas_cercanos_divide(lista):\n",
        "  # para aplicar el método, lo primero es ordenar la lista\n",
        "  lista = sorted(lista)\n",
        "  if len(lista) <= 3:\n",
        "    # cuando la división resulta en una lista de tamaño 3 o menor\n",
        "    min_0, pareja_0 = puntos_mas_cercanos_bruto(lista)\n",
        "  else:\n",
        "    # se divide la lista en dos partes\n",
        "    largo = len(lista)\n",
        "    lista_1 = lista[:int(largo/2)]\n",
        "    lista_2 = lista[int(largo - largo/2):]\n",
        "    # se aplica recurrentemente el algoritmo a cada división\n",
        "    min_1, pareja_1 = puntos_mas_cercanos_divide(lista_1)\n",
        "    min_2, pareja_2 = puntos_mas_cercanos_divide(lista_2)\n",
        "    # Estudio de la frontera:\n",
        "    p, q = lista_1[len(lista_1)-1], lista_2[0]\n",
        "    min_3, pareja_3 = q - p, [[p, q]]\n",
        "\n",
        "    # se almacenan todas las parejas de puntos de la distancia mínima\n",
        "    # min_0 = min(min_1, min_2, min_3)\n",
        "    if min_1 == min_2:\n",
        "      if min_1 == min_3:\n",
        "        min_0, pareja_0 = min_1, pareja_1 + pareja_3 + pareja_2\n",
        "      elif min_1 < min_3:\n",
        "        min_0, pareja_0 = min_1, pareja_1 + pareja_2\n",
        "      else:\n",
        "        min_0, pareja_0 = min_3, pareja_3\n",
        "    elif min_1 > min_2:\n",
        "      if min_2 == min_3:\n",
        "        min_0, pareja_0 = min_2, pareja_3 + pareja_2\n",
        "      elif min_2 < min_3:\n",
        "        min_0, pareja_0 = min_2, pareja_2\n",
        "      else:\n",
        "        min_0, pareja_0 = min_3, pareja_3\n",
        "    else:\n",
        "      if min_1 == min_3:\n",
        "        min_0, pareja_0 = min_1, pareja_1 + pareja_3\n",
        "      elif min_1 < min_3:\n",
        "        min_0, pareja_0 = min_1, pareja_1\n",
        "      else:\n",
        "        min_0, pareja_0 = min_3, pareja_3\n",
        "\n",
        "  return min_0, pareja_0\n",
        "\n",
        "lista_de_numeros = [random.randrange(-50000000,50000000) for x in range(3000)]\n",
        "lista = sorted(lista_de_numeros)\n",
        "\n",
        "print('Fuerza bruta')\n",
        "tiempo_1 = time()\n",
        "print(puntos_mas_cercanos_bruto(lista))\n",
        "tiempo_2 = time()\n",
        "print (tiempo_2 - tiempo_1)\n",
        "\n",
        "print('\\nDivide y vencerás')\n",
        "tiempo_1 = time()\n",
        "print(puntos_mas_cercanos_divide(lista))\n",
        "tiempo_2 = time()\n",
        "print (tiempo_2 - tiempo_1)\n"
      ],
      "execution_count": 59,
      "outputs": [
        {
          "output_type": "stream",
          "text": [
            "Fuerza bruta\n",
            "(2, [[19998690, 19998692]])\n",
            "1.2130391597747803\n",
            "\n",
            "Divide y vencerás\n",
            "(2, [[19998690, 19998692]])\n",
            "0.004921436309814453\n"
          ],
          "name": "stdout"
        }
      ]
    },
    {
      "cell_type": "markdown",
      "metadata": {
        "id": "8Skf25PP6CNC",
        "colab_type": "text"
      },
      "source": [
        "#### Dos dimensiones"
      ]
    },
    {
      "cell_type": "code",
      "metadata": {
        "id": "9ocJ5Qf06GLY",
        "colab_type": "code",
        "outputId": "15581e6c-5a7e-42da-f157-ff7b664a599c",
        "colab": {
          "base_uri": "https://localhost:8080/",
          "height": 134
        }
      },
      "source": [
        "import random\n",
        "from time import time\n",
        "import numpy as np\n",
        "\n",
        "def puntos_mas_cercanos_bruto_2D(lista):\n",
        "  minimo=((((max([k[0] for k in lista])-min([k[0] for k in lista]))**2 + (max([k[1] for k in lista])-min([k[1] for k in lista]))**2)**0.5)+1)*2\n",
        "  for i in range(len(lista)-1):\n",
        "    for j in range(i+1,len(lista)):\n",
        "      p, q = lista[i], lista[j]\n",
        "      dist = (((p[0]-q[0])**2 + (p[1]-q[1])**2)**0.5)\n",
        "      if dist < minimo:\n",
        "        minimo = dist\n",
        "        pareja = [[p, q]]\n",
        "      elif dist == minimo:\n",
        "        pareja += [[p, q]]\n",
        "  return minimo, pareja\n",
        "\n",
        "def puntos_mas_cercanos_divide_2D(lista):\n",
        "  # para aplicar el método, lo primero es ordenar la lista\n",
        "  lista = sorted(lista)\n",
        "  if len(lista) <= 3:\n",
        "    # cuando la división resulta en una lista de tamaño 3 o menor\n",
        "    min_0, pareja_0 = puntos_mas_cercanos_bruto_2D(lista)\n",
        "  else:\n",
        "    # se divide la lista en dos partes\n",
        "    largo = len(lista)\n",
        "    lista_1 = lista[:int(largo/2)]\n",
        "    lista_2 = lista[int(largo - largo/2):]\n",
        "    p_medio = lista[int(largo/2)-1]\n",
        "    # se aplica recurrentemente el algoritmo a cada división\n",
        "    min_1, pareja_1 = puntos_mas_cercanos_divide_2D(lista_1)\n",
        "    min_2, pareja_2 = puntos_mas_cercanos_divide_2D(lista_2)\n",
        "\n",
        "    # Estudio de la frontera:\n",
        "    dm = min(min_1, min_2)\n",
        "    lista = np.array(lista)\n",
        "    # print([abs(i[0] - p_medio[0]) for i in lista])\n",
        "    lista_3 = [tuple(p) for p in list(lista[[abs(i[0] - p_medio[0]) <= dm for i in lista]])]\n",
        "    if len(lista_3)>1: min_3, pareja_3 = puntos_mas_cercanos_bruto_2D(lista_3)\n",
        "    else: min_3 = max(min_1, min_2)+1\n",
        "    # se almacenan todas las parejas de puntos de la distancia mínima\n",
        "    # min_0 = min(min_1, min_2, min_3)\n",
        "    if min_1 == min_2:\n",
        "      if min_1 == min_3:\n",
        "        min_0, pareja_0 = min_1, pareja_1 + pareja_3 + pareja_2\n",
        "      elif min_1 < min_3:\n",
        "        min_0, pareja_0 = min_1, pareja_1 + pareja_2\n",
        "      else:\n",
        "        min_0, pareja_0 = min_3, pareja_3\n",
        "    elif min_1 > min_2:\n",
        "      if min_2 == min_3:\n",
        "        min_0, pareja_0 = min_2, pareja_3 + pareja_2\n",
        "      elif min_2 < min_3:\n",
        "        min_0, pareja_0 = min_2, pareja_2\n",
        "      else:\n",
        "        min_0, pareja_0 = min_3, pareja_3\n",
        "    else:\n",
        "      if min_1 == min_3:\n",
        "        min_0, pareja_0 = min_1, pareja_1 + pareja_3\n",
        "      elif min_1 < min_3:\n",
        "        min_0, pareja_0 = min_1, pareja_1\n",
        "      else:\n",
        "        min_0, pareja_0 = min_3, pareja_3\n",
        "\n",
        "  return min_0, pareja_0\n",
        "\n",
        "\n",
        "precision = 100000\n",
        "lista_de_numeros = [(random.randrange(1,precision), random.randrange(1,precision)) for x in range(3000)]\n",
        "lista = sorted(lista_de_numeros)\n",
        "\n",
        "print('Fuerza bruta')\n",
        "tiempo_1 = time()\n",
        "print(puntos_mas_cercanos_bruto_2D(lista))\n",
        "tiempo_2 = time()\n",
        "print (tiempo_2 - tiempo_1)\n",
        "\n",
        "print('\\nDivide y vencerás')\n",
        "tiempo_1 = time()\n",
        "print(puntos_mas_cercanos_divide_2D(lista))\n",
        "tiempo_2 = time()\n",
        "print (tiempo_2 - tiempo_1)\n"
      ],
      "execution_count": 61,
      "outputs": [
        {
          "output_type": "stream",
          "text": [
            "Fuerza bruta\n",
            "(12.206555615733702, [[(45183, 80552), (45190, 80542)]])\n",
            "4.00858998298645\n",
            "\n",
            "Divide y vencerás\n",
            "(12.206555615733702, [[(45183, 80552), (45190, 80542)]])\n",
            "0.3449218273162842\n"
          ],
          "name": "stdout"
        }
      ]
    },
    {
      "cell_type": "markdown",
      "metadata": {
        "id": "tuWwyWLjYq0Z",
        "colab_type": "text"
      },
      "source": [
        "#### Tres dimensiones"
      ]
    },
    {
      "cell_type": "code",
      "metadata": {
        "id": "vjUk0ddPYrV1",
        "colab_type": "code",
        "outputId": "f7038ded-8c3a-43d0-c38f-8bcf45e4fde2",
        "colab": {
          "base_uri": "https://localhost:8080/",
          "height": 134
        }
      },
      "source": [
        "import random\n",
        "from time import time\n",
        "import numpy as np\n",
        "\n",
        "def puntos_mas_cercanos_bruto_3D(lista):\n",
        "  minimo=((((max([k[0] for k in lista])-min([k[0] for k in lista]))**2 + (max([k[1] for k in lista])-min([k[1] for k in lista]))**2 + (max([k[2] for k in lista])-min([k[2] for k in lista]))**2)**0.5)+1)*2\n",
        "  for i in range(len(lista)-1):\n",
        "    for j in range(i+1,len(lista)):\n",
        "      p, q = lista[i], lista[j]\n",
        "      dist = (((p[0]-q[0])**2 + (p[1]-q[1])**2 + (p[2]-q[2])**2)**0.5)\n",
        "      if dist < minimo:\n",
        "        minimo = dist\n",
        "        pareja = [[p, q]]\n",
        "      elif dist == minimo:\n",
        "        pareja += [[p, q]]\n",
        "  return minimo, pareja\n",
        "\n",
        "def puntos_mas_cercanos_divide_3D(lista):\n",
        "  # para aplicar el método, lo primero es ordenar la lista\n",
        "  lista = sorted(lista)\n",
        "  if len(lista) <= 3:\n",
        "    # cuando la división resulta en una lista de tamaño 3 o menor\n",
        "    min_0, pareja_0 = puntos_mas_cercanos_bruto_3D(lista)\n",
        "  else:\n",
        "    # se divide la lista en dos partes\n",
        "    largo = len(lista)\n",
        "    lista_1 = lista[:int(largo/2)]\n",
        "    lista_2 = lista[int(largo - largo/2):]\n",
        "    p_medio = lista[int(largo/2)-1]\n",
        "    # se aplica recurrentemente el algoritmo a cada división\n",
        "    min_1, pareja_1 = puntos_mas_cercanos_divide_3D(lista_1)\n",
        "    min_2, pareja_2 = puntos_mas_cercanos_divide_3D(lista_2)\n",
        "\n",
        "    # Estudio de la frontera:\n",
        "    dm = min(min_1, min_2)\n",
        "    lista = np.array(lista)\n",
        "    # print([abs(i[0] - p_medio[0]) for i in lista])\n",
        "    lista_3 = [tuple(p) for p in list(lista[[abs(i[0] - p_medio[0]) <= dm for i in lista]])]\n",
        "    if len(lista_3)>1: min_3, pareja_3 = puntos_mas_cercanos_bruto_3D(lista_3)\n",
        "    else: min_3 = max(min_1, min_2)+1\n",
        "    # se almacenan todas las parejas de puntos de la distancia mínima\n",
        "    # min_0 = min(min_1, min_2, min_3)\n",
        "    if min_1 == min_2:\n",
        "      if min_1 == min_3:\n",
        "        min_0, pareja_0 = min_1, pareja_1 + pareja_3 + pareja_2\n",
        "      elif min_1 < min_3:\n",
        "        min_0, pareja_0 = min_1, pareja_1 + pareja_2\n",
        "      else:\n",
        "        min_0, pareja_0 = min_3, pareja_3\n",
        "    elif min_1 > min_2:\n",
        "      if min_2 == min_3:\n",
        "        min_0, pareja_0 = min_2, pareja_3 + pareja_2\n",
        "      elif min_2 < min_3:\n",
        "        min_0, pareja_0 = min_2, pareja_2\n",
        "      else:\n",
        "        min_0, pareja_0 = min_3, pareja_3\n",
        "    else:\n",
        "      if min_1 == min_3:\n",
        "        min_0, pareja_0 = min_1, pareja_1 + pareja_3\n",
        "      elif min_1 < min_3:\n",
        "        min_0, pareja_0 = min_1, pareja_1\n",
        "      else:\n",
        "        min_0, pareja_0 = min_3, pareja_3\n",
        "\n",
        "  return min_0, pareja_0\n",
        "\n",
        "\n",
        "precision = 200000\n",
        "lista_de_numeros = [(random.randrange(0,precision), random.randrange(0,precision), random.randrange(0,precision)) for x in range(3000)]\n",
        "lista = sorted(lista_de_numeros)\n",
        "\n",
        "print('Fuerza bruta')\n",
        "tiempo_1 = time()\n",
        "print(puntos_mas_cercanos_bruto_3D(lista))\n",
        "tiempo_2 = time()\n",
        "print (tiempo_2 - tiempo_1)\n",
        "\n",
        "print('\\nDivide y vencerás')\n",
        "tiempo_1 = time()\n",
        "print(puntos_mas_cercanos_divide_3D(lista))\n",
        "tiempo_2 = time()\n",
        "print (tiempo_2 - tiempo_1)\n"
      ],
      "execution_count": 64,
      "outputs": [
        {
          "output_type": "stream",
          "text": [
            "Fuerza bruta\n",
            "(970.9691035249268, [[(76963, 47476, 99534), (77737, 47884, 99955)]])\n",
            "5.584478378295898\n",
            "\n",
            "Divide y vencerás\n",
            "(970.9691035249268, [[(76963, 47476, 99534), (77737, 47884, 99955)]])\n",
            "1.4168071746826172\n"
          ],
          "name": "stdout"
        }
      ]
    }
  ]
}