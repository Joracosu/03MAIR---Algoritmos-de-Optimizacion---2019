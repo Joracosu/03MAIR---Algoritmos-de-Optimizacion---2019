{
  "nbformat": 4,
  "nbformat_minor": 0,
  "metadata": {
    "colab": {
      "name": "José Ramón Conde - AG1.ipynb",
      "provenance": [],
      "include_colab_link": true
    },
    "kernelspec": {
      "name": "python3",
      "display_name": "Python 3"
    }
  },
  "cells": [
    {
      "cell_type": "markdown",
      "metadata": {
        "id": "view-in-github",
        "colab_type": "text"
      },
      "source": [
        "<a href=\"https://colab.research.google.com/github/Joracosu/03MAIR---Algoritmos-de-Optimizacion---2019/blob/master/AG1/Jos%C3%A9_Ram%C3%B3n_Conde_AG1.ipynb\" target=\"_parent\"><img src=\"https://colab.research.google.com/assets/colab-badge.svg\" alt=\"Open In Colab\"/></a>"
      ]
    },
    {
      "cell_type": "markdown",
      "metadata": {
        "id": "aCpY0pNqqAMj",
        "colab_type": "text"
      },
      "source": [
        "Actividad Guiada 1 de Algoritmos de Optimización\n",
        "\n",
        "José Ramón Conde\n",
        "\n",
        "https://colab.research.google.com/drive/1b0od-aP07ucKhmEqv2oQXfaofBG7L6km"
      ]
    },
    {
      "cell_type": "code",
      "metadata": {
        "id": "wGr4zF6eqUZp",
        "colab_type": "code",
        "colab": {
          "base_uri": "https://localhost:8080/",
          "height": 269
        },
        "outputId": "4f0201e9-91f9-44fb-e21f-da297391535f"
      },
      "source": [
        "def torres (N, desde, hasta):\n",
        "  if N==1:\n",
        "    print('Lleva la ficha desde', str(desde),'hasta',str(hasta))\n",
        "  else:\n",
        "    torres(N-1, desde, 6-desde-hasta)\n",
        "    print('Lleva la ficha desde', str(desde), 'hasta', str(hasta))\n",
        "    torres(N-1, 6-desde-hasta, hasta)\n",
        "\n",
        "torres(4, 1, 3)"
      ],
      "execution_count": 4,
      "outputs": [
        {
          "output_type": "stream",
          "text": [
            "Lleva la ficha desde 1 hasta 2\n",
            "Lleva la ficha desde 1 hasta 3\n",
            "Lleva la ficha desde 2 hasta 3\n",
            "Lleva la ficha desde 1 hasta 2\n",
            "Lleva la ficha desde 3 hasta 1\n",
            "Lleva la ficha desde 3 hasta 2\n",
            "Lleva la ficha desde 1 hasta 2\n",
            "Lleva la ficha desde 1 hasta 3\n",
            "Lleva la ficha desde 2 hasta 3\n",
            "Lleva la ficha desde 2 hasta 1\n",
            "Lleva la ficha desde 3 hasta 1\n",
            "Lleva la ficha desde 2 hasta 3\n",
            "Lleva la ficha desde 1 hasta 2\n",
            "Lleva la ficha desde 1 hasta 3\n",
            "Lleva la ficha desde 2 hasta 3\n"
          ],
          "name": "stdout"
        }
      ]
    }
  ]
}