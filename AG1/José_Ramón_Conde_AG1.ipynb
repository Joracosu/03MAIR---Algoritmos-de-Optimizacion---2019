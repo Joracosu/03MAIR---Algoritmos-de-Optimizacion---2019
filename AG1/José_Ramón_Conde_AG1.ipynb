{
  "nbformat": 4,
  "nbformat_minor": 0,
  "metadata": {
    "colab": {
      "name": "José Ramón Conde - AG1.ipynb",
      "provenance": [],
      "collapsed_sections": [],
      "include_colab_link": true
    },
    "kernelspec": {
      "name": "python3",
      "display_name": "Python 3"
    }
  },
  "cells": [
    {
      "cell_type": "markdown",
      "metadata": {
        "id": "view-in-github",
        "colab_type": "text"
      },
      "source": [
        "<a href=\"https://colab.research.google.com/github/Joracosu/03MAIR---Algoritmos-de-Optimizacion---2019/blob/master/AG1/Jos%C3%A9_Ram%C3%B3n_Conde_AG1.ipynb\" target=\"_parent\"><img src=\"https://colab.research.google.com/assets/colab-badge.svg\" alt=\"Open In Colab\"/></a>"
      ]
    },
    {
      "cell_type": "markdown",
      "metadata": {
        "id": "aCpY0pNqqAMj",
        "colab_type": "text"
      },
      "source": [
        "Actividad Guiada 1 de Algoritmos de Optimización\n",
        "\n",
        "José Ramón Conde Suárez\n",
        "\n",
        "https://colab.research.google.com/drive/1b0od-aP07ucKhmEqv2oQXfaofBG7L6km"
      ]
    },
    {
      "cell_type": "markdown",
      "metadata": {
        "id": "afjeL1CiWxPZ",
        "colab_type": "text"
      },
      "source": [
        "## Ejercicio de las torres de Hanói"
      ]
    },
    {
      "cell_type": "code",
      "metadata": {
        "id": "wGr4zF6eqUZp",
        "colab_type": "code",
        "colab": {}
      },
      "source": [
        "def torres (N, desde, hasta):\n",
        "  if N==1:\n",
        "    print('Lleva la ficha desde', str(desde),'hasta',str(hasta))\n",
        "  else:\n",
        "    torres(N-1, desde, 6-desde-hasta)\n",
        "    print('Lleva la ficha desde', str(desde), 'hasta', str(hasta))\n",
        "    torres(N-1, 6-desde-hasta, hasta)\n",
        "\n",
        "# torres(3, 1, 3)"
      ],
      "execution_count": 0,
      "outputs": []
    },
    {
      "cell_type": "markdown",
      "metadata": {
        "id": "zfeve6kvWwHG",
        "colab_type": "text"
      },
      "source": [
        "## Ejercicio de las n reinas"
      ]
    },
    {
      "cell_type": "code",
      "metadata": {
        "id": "pzziAn36G5TW",
        "colab_type": "code",
        "colab": {}
      },
      "source": [
        "def reinas(N, solucion, etapa, j=0):\n",
        "  for i in range(1, N + 1):\n",
        "    solucion[etapa] = i\n",
        "    if es_prometedora(solucion, etapa):\n",
        "      if etapa == N - 1:\n",
        "        j = j + 1\n",
        "        print('Una solución es [',j,']:', solucion)\n",
        "      else:\n",
        "        j = reinas(N, solucion, etapa + 1, j)\n",
        "    solucion[etapa] = 0\n",
        "  return j\n",
        "\n",
        "def es_prometedora(SOLUCION, etapa):\n",
        "  for i in range(etapa + 1):\n",
        "    if SOLUCION.count(SOLUCION[i]) > 1: return False\n",
        "    for j in range(i + 1, etapa + 1):\n",
        "      if abs(i-j) == abs(SOLUCION[i] - SOLUCION[j]): return False\n",
        "  return True\n",
        "\n",
        "# print('Total',reinas(8,([0,0,0,0,0,0,0,0]),0),'soluciones')\n"
      ],
      "execution_count": 0,
      "outputs": []
    },
    {
      "cell_type": "markdown",
      "metadata": {
        "id": "UfiSfOtJXGG0",
        "colab_type": "text"
      },
      "source": [
        "## Ejercicio de vecinos más cercanos\n"
      ]
    },
    {
      "cell_type": "markdown",
      "metadata": {
        "id": "ld35V28GGzqz",
        "colab_type": "text"
      },
      "source": [
        "### Fuerza bruta\n",
        "#### Todas las dimensiones"
      ]
    },
    {
      "cell_type": "code",
      "metadata": {
        "id": "NadZ5SVDGcTF",
        "colab_type": "code",
        "colab": {}
      },
      "source": [
        "def puntos_mas_cercanos_bruto_multiD(lista):\n",
        "  # se calcula un valor que seguro que es mayor que la distancia mínima de la lista\n",
        "        # ORDEN DE COMPLEJIDAD:\n",
        "        # k*(2*n+3)+4 = 2kn + 3k + 4 ~> O(n)\n",
        "  auxiliar = 0\n",
        "  for n in range(len(lista[0])-1):\n",
        "    auxiliar += (max([k[n] for k in lista])-min([k[n] for k in lista]))**2\n",
        "  minimo = (((auxiliar)**0.5)+1)*2\n",
        "        #-------------------------------\n",
        "\n",
        "        # ORDEN DE COMPLEJIDAD:\n",
        "        # (6+5k)*(n**2-n) ~> O(n**2)\n",
        "  for i in range(len(lista)-1): #para todos los valores de la lista menos el último\n",
        "    for j in range(i+1,len(lista)): # comparar con el resto de valores de la lista\n",
        "      p, q = lista[i], lista[j]\n",
        "\n",
        "      # cálculo de la distancia euquidea independientemente de las dimensiones\n",
        "      auxiliar = 0\n",
        "      for n in range(len(lista[0])-1):\n",
        "        auxiliar += (p[n]-q[n])**2\n",
        "      dist = (auxiliar)**0.5\n",
        "      \n",
        "      if dist < minimo:\n",
        "        # se reinicia la lista\n",
        "        minimo = dist\n",
        "        pareja = [[p, q]]\n",
        "      elif dist == minimo:\n",
        "        # se añade el punto a la lista\n",
        "        pareja += [[p, q]]\n",
        "        #-------------------------------\n",
        "\n",
        "        # ORDEN DE COMPLEJIDAD:\n",
        "        # O(n**2) + O(n**2) + O(n) ~> O(n**2)\n",
        "  k = sorted(pareja)\n",
        "  k = [k[i] for i in range(len(k)) if i == 0 or k[i] != k[i-1]]\n",
        "  return minimo, k"
      ],
      "execution_count": 0,
      "outputs": []
    },
    {
      "cell_type": "markdown",
      "metadata": {
        "id": "RpB-wo3yGqfP",
        "colab_type": "text"
      },
      "source": [
        "### Divide y venceras\n",
        "#### Todas las dimensiones"
      ]
    },
    {
      "cell_type": "code",
      "metadata": {
        "id": "5A2LDloIIdiq",
        "colab_type": "code",
        "colab": {}
      },
      "source": [
        "import random\n",
        "import numpy as np\n",
        "from time import time\n",
        "def puntos_mas_cercanos_divide_multiD(lista, dimension = -1):\n",
        "\n",
        "  if dimension == -1: dimension = len(lista[0]) - 1\n",
        "\n",
        "  if len(lista) <= 3:\n",
        "    # para aplicar el método, lo primero es ordenar la lista\n",
        "    lista = sorted(lista)   \n",
        "    # cuando la división resulta en una lista de tamaño 3 o menor\n",
        "    min_0, pareja_0 = puntos_mas_cercanos_bruto_multiD(lista) \n",
        "    \n",
        "  else:\n",
        "    # para aplicar el método, se ordena primero por la dimensión última\n",
        "    if dimension == 1:\n",
        "      lista = sorted(lista)   \n",
        "    else:\n",
        "      lista = sorted(lista, key=lambda punto : punto[dimension - 1]) \n",
        "    # se divide la lista en dos partes\n",
        "    largo = len(lista)      \n",
        "    lista_1 = lista[:int(largo/2)]  \n",
        "    lista_2 = lista[int(largo - largo/2):]  \n",
        "    \n",
        "    # se aplica recurrentemente el algoritmo a cada división\n",
        "    min_1, pareja_1 = puntos_mas_cercanos_divide_multiD(lista_1, dimension)  \n",
        "    min_2, pareja_2 = puntos_mas_cercanos_divide_multiD(lista_2, dimension)  \n",
        "\n",
        "    # Estudio de la frontera:\n",
        "    #    Al tratarse de tres dimensiones, hay que estudiar TODOS los puntos que se\n",
        "    #    encuentran a una distancia en z menor que la distancia mínima encontrada\n",
        "    #    entre las dos listas. Para ello se crea una lista que contenga dichos \n",
        "    #    puntos independientemente de su X y de su Y y se calcula su distancia mínima por \n",
        "    #    divide y venceras en 2D\n",
        "    if dimension == 1:\n",
        "      p, q = lista_1[len(lista_1)-1], lista_2[0]\n",
        "      min_3, pareja_3 = puntos_mas_cercanos_bruto_multiD([p, q])\n",
        "    else:\n",
        "      p_medio = lista[int(largo/2)-1]   \n",
        "      dm = min(min_1, min_2)    \n",
        "      lista = np.array(lista)   \n",
        "      # print(dimension)\n",
        "      lista_3 = [tuple(p) for p in list(lista[[abs(i[dimension - 1] - p_medio[dimension - 1]) <= dm for i in lista]])] \n",
        "\n",
        "      if len(lista_3)>1: min_3, pareja_3 = puntos_mas_cercanos_divide_multiD(lista_3, dimension - 1)    \n",
        "      else: min_3 = max(min_1, min_2) + 1  # con esto se declara un valor para min_3 pero se decarta    \n",
        "\n",
        "    # se almacenan todas las parejas de puntos de la distancia mínima\n",
        "    # min_0 = min(min_1, min_2, min_3)\n",
        "    if min_1 == min_2:\n",
        "      if min_1 == min_3:\n",
        "        min_0, pareja_0 = min_1, pareja_1 + pareja_3 + pareja_2\n",
        "      elif min_1 < min_3:\n",
        "        min_0, pareja_0 = min_1, pareja_1 + pareja_2\n",
        "      else:\n",
        "        min_0, pareja_0 = min_3, pareja_3\n",
        "    elif min_1 > min_2:\n",
        "      if min_2 == min_3:\n",
        "        min_0, pareja_0 = min_2, pareja_3 + pareja_2\n",
        "      elif min_2 < min_3:\n",
        "        min_0, pareja_0 = min_2, pareja_2\n",
        "      else:\n",
        "        min_0, pareja_0 = min_3, pareja_3\n",
        "    else:\n",
        "      if min_1 == min_3:\n",
        "        min_0, pareja_0 = min_1, pareja_1 + pareja_3\n",
        "      elif min_1 < min_3:\n",
        "        min_0, pareja_0 = min_1, pareja_1\n",
        "      else:\n",
        "        min_0, pareja_0 = min_3, pareja_3\n",
        "\n",
        "  # finalmente se eliminan puntos duplicados\n",
        "  k = sorted(pareja_0)\n",
        "  k = [k[i] for i in range(len(k)) if i == 0 or k[i] != k[i-1]]\n",
        "  return min_0, k"
      ],
      "execution_count": 0,
      "outputs": []
    },
    {
      "cell_type": "markdown",
      "metadata": {
        "id": "zVXt5d4brayA",
        "colab_type": "text"
      },
      "source": [
        "### Aplicación a listas"
      ]
    },
    {
      "cell_type": "code",
      "metadata": {
        "id": "bV4th3lGaTIe",
        "colab_type": "code",
        "outputId": "bc4bee49-53ca-49e3-aa72-974fa0fcce89",
        "colab": {
          "base_uri": "https://localhost:8080/",
          "height": 1000
        }
      },
      "source": [
        "import random\n",
        "from time import time\n",
        "\n",
        "def comparativa_metodos(dimension, precision, rango):\n",
        "  print('\\nDimensión',dimension)\n",
        "  lista_de_numeros = []\n",
        "  for x in range(rango):\n",
        "    nuevo_punto = []\n",
        "    for i in range(dimension):\n",
        "      nuevo_punto += [random.randrange(0,precision)]\n",
        "    nuevo_punto += [[x+1]]\n",
        "    lista_de_numeros += [tuple(nuevo_punto)]  \n",
        "  lista = sorted(lista_de_numeros)    \n",
        "\n",
        "  metodos = {'Fuerza bruta' : puntos_mas_cercanos_bruto_multiD,\n",
        "             'Divide y vencerás' : puntos_mas_cercanos_divide_multiD}\n",
        "\n",
        "  for nombre, metodo in metodos.items():\n",
        "    print(nombre)\n",
        "    tiempo_1 = time()\n",
        "    min_a, puntos_a = metodo(lista)\n",
        "    tiempo_2 = time()\n",
        "    print(min_a, puntos_a)\n",
        "    print('Segundos empleados:', tiempo_2 - tiempo_1)\n",
        "    print('')\n",
        "  print('---------------------------------------------------')\n",
        "\n",
        "comparativa_metodos(1, 100000000, 3000)\n",
        "comparativa_metodos(2, 20000, 2500)\n",
        "comparativa_metodos(3, 2000, 2000)\n",
        "comparativa_metodos(4, 2000, 1700)\n",
        "comparativa_metodos(5, 2000, 1400)\n",
        "# a partir de la sexta dimensión, el algoritmo de Divide y Vencerás se vuelve más lento que el de fuerza bruta\n",
        "comparativa_metodos(6, 2000, 1200)\n",
        "\n"
      ],
      "execution_count": 0,
      "outputs": [
        {
          "output_type": "stream",
          "text": [
            "\n",
            "Dimensión 1\n",
            "Fuerza bruta\n",
            "10.0 [[(85155432, [2265]), (85155442, [2182])]]\n",
            "Segundos empleados: 4.373668670654297\n",
            "\n",
            "Divide y vencerás\n",
            "10.0 [[(85155432, [2265]), (85155442, [2182])]]\n",
            "Segundos empleados: 0.01706671714782715\n",
            "\n",
            "---------------------------------------------------\n",
            "\n",
            "Dimensión 2\n",
            "Fuerza bruta\n",
            "5.830951894845301 [[(18856, 4340, [1443]), (18861, 4337, [1214])]]\n",
            "Segundos empleados: 4.053486585617065\n",
            "\n",
            "Divide y vencerás\n",
            "5.830951894845301 [[(18856, 4340, [1443]), (18861, 4337, [1214])]]\n",
            "Segundos empleados: 0.11850643157958984\n",
            "\n",
            "---------------------------------------------------\n",
            "\n",
            "Dimensión 3\n",
            "Fuerza bruta\n",
            "13.076696830622021 [[(966, 1729, 693, [1510]), (977, 1734, 698, [303])]]\n",
            "Segundos empleados: 3.3673791885375977\n",
            "\n",
            "Divide y vencerás\n",
            "13.076696830622021 [[(966, 1729, 693, [1510]), (977, 1734, 698, [303])]]\n",
            "Segundos empleados: 0.34186697006225586\n",
            "\n",
            "---------------------------------------------------\n",
            "\n",
            "Dimensión 4\n",
            "Fuerza bruta\n",
            "41.701318923986086 [[(565, 575, 261, 1454, [296]), (589, 570, 268, 1487, [1215])]]\n",
            "Segundos empleados: 2.9370996952056885\n",
            "\n",
            "Divide y vencerás\n",
            "41.701318923986086 [[(565, 575, 261, 1454, [296]), (589, 570, 268, 1487, [1215])]]\n",
            "Segundos empleados: 0.6659152507781982\n",
            "\n",
            "---------------------------------------------------\n",
            "\n",
            "Dimensión 5\n",
            "Fuerza bruta\n",
            "100.31948963187563 [[(1414, 154, 1733, 499, 1486, [786]), (1476, 99, 1780, 530, 1491, [1167])]]\n",
            "Segundos empleados: 2.3558173179626465\n",
            "\n",
            "Divide y vencerás\n",
            "100.31948963187563 [[(1414, 154, 1733, 499, 1486, [786]), (1476, 99, 1780, 530, 1491, [1167])]]\n",
            "Segundos empleados: 1.3890581130981445\n",
            "\n",
            "---------------------------------------------------\n",
            "\n",
            "Dimensión 6\n",
            "Fuerza bruta\n",
            "175.19988584471167 [[(192, 947, 1096, 780, 1030, 335, [2]), (224, 892, 1082, 804, 873, 300, [1183])]]\n",
            "Segundos empleados: 1.993727445602417\n",
            "\n",
            "Divide y vencerás\n",
            "175.19988584471167 [[(192, 947, 1096, 780, 1030, 335, [2]), (224, 892, 1082, 804, 873, 300, [1183])]]\n",
            "Segundos empleados: 3.050313949584961\n",
            "\n",
            "---------------------------------------------------\n"
          ],
          "name": "stdout"
        }
      ]
    }
  ]
}