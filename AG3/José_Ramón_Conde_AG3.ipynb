{
  "nbformat": 4,
  "nbformat_minor": 0,
  "metadata": {
    "colab": {
      "name": "José Ramón Conde - AG3.ipynb",
      "provenance": [],
      "collapsed_sections": [],
      "authorship_tag": "ABX9TyMjBqXv7Km9+nprBtfZ51dy",
      "include_colab_link": true
    },
    "kernelspec": {
      "name": "python3",
      "display_name": "Python 3"
    }
  },
  "cells": [
    {
      "cell_type": "markdown",
      "metadata": {
        "id": "view-in-github",
        "colab_type": "text"
      },
      "source": [
        "<a href=\"https://colab.research.google.com/github/Joracosu/03MAIR---Algoritmos-de-Optimizacion---2019/blob/master/AG3/Jos%C3%A9_Ram%C3%B3n_Conde_AG3.ipynb\" target=\"_parent\"><img src=\"https://colab.research.google.com/assets/colab-badge.svg\" alt=\"Open In Colab\"/></a>"
      ]
    },
    {
      "cell_type": "markdown",
      "metadata": {
        "id": "Vqh5-Wotjjsc",
        "colab_type": "text"
      },
      "source": [
        "Actividad Guiada 3 de Algoritmos de Optimización\n",
        "\n",
        "José Ramón Conde Suárez\n",
        "\n",
        "- *Colab:* https://colab.research.google.com/drive/14Jo4nKnH_tJgv61OSd5_fHJGJoI79Rzu\n",
        "- *Github:* https://github.com/Joracosu/03MAIR---Algoritmos-de-Optimizacion---2019/tree/master/AG3"
      ]
    },
    {
      "cell_type": "markdown",
      "metadata": {
        "id": "_mDbFUAAQXir",
        "colab_type": "text"
      },
      "source": [
        "##Instalación de librerías"
      ]
    },
    {
      "cell_type": "code",
      "metadata": {
        "id": "8SRIuasvQX4U",
        "colab_type": "code",
        "outputId": "66413656-e558-41c0-c05d-ce14def9e1b4",
        "colab": {
          "base_uri": "https://localhost:8080/",
          "height": 168
        }
      },
      "source": [
        "!pip install requests\n",
        "!pip install tsplib95"
      ],
      "execution_count": 0,
      "outputs": [
        {
          "output_type": "stream",
          "text": [
            "Requirement already satisfied: requests in /usr/local/lib/python3.6/dist-packages (2.21.0)\n",
            "Requirement already satisfied: certifi>=2017.4.17 in /usr/local/lib/python3.6/dist-packages (from requests) (2019.11.28)\n",
            "Requirement already satisfied: idna<2.9,>=2.5 in /usr/local/lib/python3.6/dist-packages (from requests) (2.8)\n",
            "Requirement already satisfied: urllib3<1.25,>=1.21.1 in /usr/local/lib/python3.6/dist-packages (from requests) (1.24.3)\n",
            "Requirement already satisfied: chardet<3.1.0,>=3.0.2 in /usr/local/lib/python3.6/dist-packages (from requests) (3.0.4)\n",
            "Requirement already satisfied: tsplib95 in /usr/local/lib/python3.6/dist-packages (0.6.1)\n",
            "Requirement already satisfied: networkx~=2.1 in /usr/local/lib/python3.6/dist-packages (from tsplib95) (2.4)\n",
            "Requirement already satisfied: Click>=6.0 in /usr/local/lib/python3.6/dist-packages (from tsplib95) (7.0)\n",
            "Requirement already satisfied: decorator>=4.3.0 in /usr/local/lib/python3.6/dist-packages (from networkx~=2.1->tsplib95) (4.4.1)\n"
          ],
          "name": "stdout"
        }
      ]
    },
    {
      "cell_type": "markdown",
      "metadata": {
        "id": "223gM3UhPSUC",
        "colab_type": "text"
      },
      "source": [
        "##Carga de datos, funciones generales y librerias necesarias"
      ]
    },
    {
      "cell_type": "code",
      "metadata": {
        "id": "aBxQ5yMrlDwV",
        "colab_type": "code",
        "colab": {}
      },
      "source": [
        "import tsplib95\n",
        "import random\n",
        "from math import e\n",
        "import urllib.request\n",
        "import math\n",
        "\n",
        "file = 'swiss42.tsp'\n",
        "urllib.request.urlretrieve('http://elib.zib.de/pub/mp-testdata/tsp/tsplib/tsp/swiss42.tsp', file)\n",
        "\n",
        "problem =tsplib95.load_problem(file)\n",
        "\n",
        "#Nodos\n",
        "Nodos = list(problem.get_nodes())\n",
        "\n",
        "#Aristas\n",
        "Aristas = list(problem.get_edges())\n",
        "\n",
        "# Se genera una solución aleatoria con comienzo en el nodo 0\n",
        "def crear_solucion(Nodos):\n",
        "  solucion = [0]\n",
        "  for i in range(len(Nodos) - 1):\n",
        "    solucion = solucion + [random.choice(list(set(Nodos) - set(solucion)))]\n",
        "  return solucion\n",
        "\n",
        "#Devuelve la distancia entre dos nodos\n",
        "def distancia(a, b, problem):\n",
        "  return problem.wfunc(a, b)\n",
        "\n",
        "#Devuelve la distancia total de una trayectoria/solución\n",
        "def distancia_total(solucion, problem):\n",
        "  distancia_total = 0\n",
        "  for i in range(len(solucion) - 1):\n",
        "    distancia_total += distancia(solucion[i], solucion[i + 1], problem)\n",
        "  return distancia_total + distancia(solucion[len(solucion) - 1], solucion[0], problem)\n"
      ],
      "execution_count": 0,
      "outputs": []
    },
    {
      "cell_type": "markdown",
      "metadata": {
        "id": "VP2MfIRhPTqR",
        "colab_type": "text"
      },
      "source": [
        "##Búsqueda aleatoria"
      ]
    },
    {
      "cell_type": "code",
      "metadata": {
        "id": "MQWCxhYBpJv0",
        "colab_type": "code",
        "outputId": "a13c8d51-4f80-4d68-9e9d-5689954717f7",
        "colab": {
          "base_uri": "https://localhost:8080/",
          "height": 70
        }
      },
      "source": [
        "# BUSQUEDA ALEATORIA\n",
        "def busqueda_aleatoria(problem, N):\n",
        "  #problem = datos del problema\n",
        "  #N = numero de iteraciones\n",
        "\n",
        "  # Nodos\n",
        "  Nodos = list(problem.get_nodes())\n",
        "\n",
        "  mejor_solucion = []\n",
        "  mejor_distancia = 10e100\n",
        "\n",
        "  for i in range(N):\n",
        "    solucion = crear_solucion(Nodos)\n",
        "    distancia_solucion = distancia_total(solucion, problem)\n",
        "    if distancia_solucion < mejor_distancia:\n",
        "      mejor_solucion = solucion\n",
        "      mejor_distancia = distancia_solucion\n",
        "\n",
        "  print('La mejor solución encontrada es ', end = '')\n",
        "  print(solucion)\n",
        "  print('con una distancia total de ', end = '')\n",
        "  print(mejor_distancia)\n",
        "  return mejor_solucion\n",
        "\n",
        "sol = busqueda_aleatoria(problem, 10000)"
      ],
      "execution_count": 0,
      "outputs": [
        {
          "output_type": "stream",
          "text": [
            "La mejor solución encontrada es [0, 33, 26, 3, 22, 38, 18, 24, 34, 32, 15, 8, 17, 14, 2, 13, 1, 11, 39, 7, 5, 37, 25, 28, 19, 4, 40, 29, 12, 31, 6, 27, 35, 41, 9, 30, 16, 10, 36, 20, 21, 23]\n",
            "con una distancia total de 3664\n"
          ],
          "name": "stdout"
        }
      ]
    },
    {
      "cell_type": "markdown",
      "metadata": {
        "id": "5wWUaIukPVIo",
        "colab_type": "text"
      },
      "source": [
        "##Búsqueda local"
      ]
    },
    {
      "cell_type": "code",
      "metadata": {
        "id": "8-Huy8wlpNqs",
        "colab_type": "code",
        "outputId": "14ff808c-2764-42cb-92c6-0543ac075fec",
        "colab": {
          "base_uri": "https://localhost:8080/",
          "height": 591
        }
      },
      "source": [
        "# BUSQUEDA LOCAL\n",
        "\n",
        "def genera_vecina(solucion):\n",
        "  # Generador de soluciones vecinas: 2-opt (intercambiar 2 nodos) Si hay N nodos se generan (N-1)x(N-2)/2 soluciones\n",
        "  # print(solucion)\n",
        "  mejor_solucion = []\n",
        "  mejor_distancia = 10e100\n",
        "  for i in range(1, len(solucion) - 1):\n",
        "    for j in range(i + 1, len(solucion)):\n",
        "      vecina = solucion[:i] + [solucion[j]] + solucion[i + 1:j] + [solucion[i]] + solucion[j + 1:]\n",
        "      distancia_vecina = distancia_total(vecina, problem)\n",
        "      if distancia_vecina <= mejor_distancia:\n",
        "        mejor_distancia = distancia_vecina\n",
        "        mejor_solucion = vecina\n",
        "  return mejor_solucion\n",
        "\n",
        "def busqueda_local(problem, N):\n",
        "  # problem = datos del problema\n",
        "  # N = numero de iteraciones\n",
        "\n",
        "  mejor_solucion = []\n",
        "  mejor_distancia = 10e100  \n",
        "\n",
        "  solucion_referencia = crear_solucion(Nodos)\n",
        "\n",
        "  for i in range(N):\n",
        "    vecina = genera_vecina(solucion_referencia)\n",
        "    distancia_vecina = distancia_total(vecina, problem)\n",
        "    if distancia_vecina < mejor_distancia:\n",
        "      mejor_solucion = vecina \n",
        "      mejor_distancia = distancia_vecina \n",
        "      print('en la iteracion',i,'-->', mejor_distancia, mejor_solucion)\n",
        "    solucion_referencia = vecina\n",
        "    \n",
        "  print('La mejor solución encontrada es ', end='')\n",
        "  print(mejor_solucion)\n",
        "  print('con una distancia total de ', end='')\n",
        "  print(mejor_distancia)\n",
        "  return mejor_solucion\n",
        "\n",
        "\n",
        "sol = busqueda_local(problem, 200)"
      ],
      "execution_count": 0,
      "outputs": [
        {
          "output_type": "stream",
          "text": [
            "en la iteracion 0 --> 4099 [0, 1, 23, 11, 10, 40, 21, 12, 41, 3, 4, 29, 30, 15, 5, 8, 24, 26, 14, 18, 33, 31, 28, 37, 2, 38, 16, 32, 17, 36, 35, 6, 9, 22, 20, 7, 39, 25, 27, 19, 13, 34]\n",
            "en la iteracion 1 --> 3797 [0, 1, 23, 11, 10, 40, 21, 12, 41, 3, 4, 29, 30, 15, 5, 8, 24, 26, 14, 18, 33, 31, 28, 37, 2, 38, 34, 32, 17, 36, 35, 6, 9, 22, 20, 7, 39, 25, 27, 19, 13, 16]\n",
            "en la iteracion 2 --> 3543 [0, 1, 23, 11, 10, 40, 21, 24, 41, 3, 4, 29, 30, 15, 5, 8, 12, 26, 14, 18, 33, 31, 28, 37, 2, 38, 34, 32, 17, 36, 35, 6, 9, 22, 20, 7, 39, 25, 27, 19, 13, 16]\n",
            "en la iteracion 3 --> 3316 [0, 1, 23, 11, 10, 40, 21, 24, 41, 3, 4, 29, 30, 28, 5, 8, 12, 26, 14, 18, 33, 31, 15, 37, 2, 38, 34, 32, 17, 36, 35, 6, 9, 22, 20, 7, 39, 25, 27, 19, 13, 16]\n",
            "en la iteracion 4 --> 3110 [0, 1, 23, 11, 10, 40, 21, 24, 41, 3, 4, 29, 30, 28, 5, 8, 12, 26, 14, 18, 7, 31, 15, 37, 2, 38, 34, 32, 17, 36, 35, 6, 9, 22, 20, 33, 39, 25, 27, 19, 13, 16]\n",
            "en la iteracion 5 --> 2968 [0, 1, 23, 11, 10, 40, 21, 24, 41, 3, 4, 29, 30, 28, 27, 8, 12, 26, 14, 18, 7, 31, 15, 37, 2, 38, 34, 32, 17, 36, 35, 6, 9, 22, 20, 33, 39, 25, 5, 19, 13, 16]\n",
            "en la iteracion 6 --> 2828 [0, 1, 23, 11, 10, 40, 21, 24, 41, 3, 4, 29, 30, 28, 27, 8, 12, 26, 14, 16, 7, 31, 15, 37, 2, 38, 34, 32, 17, 36, 35, 6, 9, 22, 20, 33, 39, 25, 5, 19, 13, 18]\n",
            "en la iteracion 7 --> 2734 [0, 1, 6, 11, 10, 40, 21, 24, 41, 3, 4, 29, 30, 28, 27, 8, 12, 26, 14, 16, 7, 31, 15, 37, 2, 38, 34, 32, 17, 36, 35, 23, 9, 22, 20, 33, 39, 25, 5, 19, 13, 18]\n",
            "en la iteracion 8 --> 2643 [0, 1, 6, 11, 10, 40, 21, 24, 41, 3, 4, 29, 30, 28, 27, 8, 12, 26, 14, 16, 7, 31, 15, 37, 2, 20, 34, 32, 17, 36, 35, 23, 9, 22, 38, 33, 39, 25, 5, 19, 13, 18]\n",
            "en la iteracion 9 --> 2552 [0, 1, 6, 11, 10, 40, 21, 24, 41, 3, 4, 29, 30, 28, 27, 8, 12, 26, 14, 16, 7, 31, 15, 37, 2, 20, 34, 32, 17, 36, 35, 33, 9, 22, 38, 23, 39, 25, 5, 19, 13, 18]\n",
            "en la iteracion 10 --> 2387 [0, 1, 6, 11, 10, 40, 21, 24, 41, 3, 4, 29, 30, 28, 27, 8, 12, 26, 14, 16, 7, 31, 15, 37, 2, 20, 34, 32, 17, 36, 35, 33, 38, 22, 9, 23, 39, 25, 5, 19, 13, 18]\n",
            "en la iteracion 11 --> 2231 [0, 1, 6, 11, 10, 40, 21, 24, 39, 3, 4, 29, 30, 28, 27, 8, 12, 26, 14, 16, 7, 31, 15, 37, 2, 20, 34, 32, 17, 36, 35, 33, 38, 22, 9, 23, 41, 25, 5, 19, 13, 18]\n",
            "en la iteracion 12 --> 2180 [0, 1, 6, 11, 10, 40, 21, 24, 39, 3, 4, 29, 30, 28, 27, 8, 12, 26, 14, 16, 7, 31, 15, 37, 2, 32, 34, 20, 17, 36, 35, 33, 38, 22, 9, 23, 41, 25, 5, 19, 13, 18]\n",
            "en la iteracion 13 --> 2131 [0, 1, 6, 11, 10, 40, 21, 24, 39, 3, 4, 29, 30, 28, 27, 8, 12, 26, 14, 16, 7, 17, 15, 37, 2, 32, 34, 20, 31, 36, 35, 33, 38, 22, 9, 23, 41, 25, 5, 19, 13, 18]\n",
            "en la iteracion 14 --> 2090 [0, 1, 6, 11, 10, 40, 21, 24, 39, 3, 4, 29, 30, 28, 27, 8, 12, 26, 14, 16, 7, 17, 15, 37, 2, 32, 34, 20, 31, 36, 35, 33, 38, 22, 9, 23, 41, 25, 18, 19, 13, 5]\n",
            "en la iteracion 15 --> 2050 [0, 1, 6, 11, 10, 40, 21, 24, 39, 8, 4, 29, 30, 28, 27, 3, 12, 26, 14, 16, 7, 17, 15, 37, 2, 32, 34, 20, 31, 36, 35, 33, 38, 22, 9, 23, 41, 25, 18, 19, 13, 5]\n",
            "en la iteracion 16 --> 1978 [0, 1, 12, 11, 10, 40, 21, 24, 39, 8, 4, 29, 30, 28, 27, 3, 6, 26, 14, 16, 7, 17, 15, 37, 2, 32, 34, 20, 31, 36, 35, 33, 38, 22, 9, 23, 41, 25, 18, 19, 13, 5]\n",
            "en la iteracion 17 --> 1940 [0, 1, 12, 11, 10, 40, 21, 24, 39, 8, 4, 29, 30, 28, 27, 3, 6, 26, 14, 16, 37, 17, 15, 7, 2, 32, 34, 20, 31, 36, 35, 33, 38, 22, 9, 23, 41, 25, 18, 19, 13, 5]\n",
            "en la iteracion 18 --> 1906 [0, 1, 12, 11, 10, 40, 21, 24, 39, 8, 4, 29, 30, 28, 27, 3, 6, 19, 14, 16, 37, 17, 15, 7, 2, 32, 34, 20, 31, 36, 35, 33, 38, 22, 9, 23, 41, 25, 18, 26, 13, 5]\n",
            "en la iteracion 19 --> 1878 [0, 1, 12, 11, 10, 40, 21, 24, 39, 8, 4, 29, 30, 28, 27, 3, 6, 19, 14, 16, 15, 17, 37, 7, 2, 32, 34, 20, 31, 36, 35, 33, 38, 22, 9, 23, 41, 25, 18, 26, 13, 5]\n",
            "en la iteracion 20 --> 1850 [0, 1, 12, 11, 10, 40, 21, 24, 39, 8, 4, 29, 30, 28, 27, 3, 6, 19, 14, 16, 15, 37, 17, 7, 2, 32, 34, 20, 31, 36, 35, 33, 38, 22, 9, 23, 41, 25, 18, 26, 13, 5]\n",
            "en la iteracion 21 --> 1828 [0, 2, 12, 11, 10, 40, 21, 24, 39, 8, 4, 29, 30, 28, 27, 3, 6, 19, 14, 16, 15, 37, 17, 7, 1, 32, 34, 20, 31, 36, 35, 33, 38, 22, 9, 23, 41, 25, 18, 26, 13, 5]\n",
            "en la iteracion 22 --> 1800 [0, 4, 12, 11, 10, 40, 21, 24, 39, 8, 2, 29, 30, 28, 27, 3, 6, 19, 14, 16, 15, 37, 17, 7, 1, 32, 34, 20, 31, 36, 35, 33, 38, 22, 9, 23, 41, 25, 18, 26, 13, 5]\n",
            "en la iteracion 23 --> 1780 [0, 4, 12, 11, 10, 40, 24, 21, 39, 8, 2, 29, 30, 28, 27, 3, 6, 19, 14, 16, 15, 37, 17, 7, 1, 32, 34, 20, 31, 36, 35, 33, 38, 22, 9, 23, 41, 25, 18, 26, 13, 5]\n",
            "en la iteracion 24 --> 1761 [0, 4, 12, 11, 10, 40, 24, 21, 39, 8, 28, 29, 30, 2, 27, 3, 6, 19, 14, 16, 15, 37, 17, 7, 1, 32, 34, 20, 31, 36, 35, 33, 38, 22, 9, 23, 41, 25, 18, 26, 13, 5]\n",
            "en la iteracion 25 --> 1740 [0, 4, 12, 11, 10, 40, 24, 21, 39, 8, 30, 29, 28, 2, 27, 3, 6, 19, 14, 16, 15, 37, 17, 7, 1, 32, 34, 20, 31, 36, 35, 33, 38, 22, 9, 23, 41, 25, 18, 26, 13, 5]\n",
            "en la iteracion 26 --> 1719 [0, 4, 12, 11, 10, 40, 24, 21, 39, 8, 29, 30, 28, 2, 27, 3, 6, 19, 14, 16, 15, 37, 17, 7, 1, 32, 34, 20, 31, 36, 35, 33, 38, 22, 9, 23, 41, 25, 18, 26, 13, 5]\n",
            "en la iteracion 27 --> 1702 [0, 4, 12, 11, 25, 40, 24, 21, 39, 8, 29, 30, 28, 2, 27, 3, 6, 19, 14, 16, 15, 37, 17, 7, 1, 32, 34, 20, 31, 36, 35, 33, 38, 22, 9, 23, 41, 10, 18, 26, 13, 5]\n",
            "en la iteracion 28 --> 1693 [0, 4, 12, 11, 25, 40, 24, 21, 9, 8, 29, 30, 28, 2, 27, 3, 6, 19, 14, 16, 15, 37, 17, 7, 1, 32, 34, 20, 31, 36, 35, 33, 38, 22, 39, 23, 41, 10, 18, 26, 13, 5]\n",
            "en la iteracion 29 --> 1692 [0, 4, 12, 11, 25, 40, 24, 21, 9, 8, 29, 30, 28, 2, 27, 3, 13, 19, 14, 16, 15, 37, 17, 7, 1, 32, 34, 20, 31, 36, 35, 33, 38, 22, 39, 23, 41, 10, 18, 26, 6, 5]\n",
            "en la iteracion 30 --> 1660 [0, 4, 12, 11, 25, 40, 24, 21, 9, 8, 29, 30, 28, 2, 27, 3, 13, 19, 14, 16, 15, 37, 17, 7, 1, 32, 34, 20, 31, 36, 35, 33, 38, 22, 39, 23, 41, 10, 18, 26, 5, 6]\n",
            "La mejor solución encontrada es [0, 4, 12, 11, 25, 40, 24, 21, 9, 8, 29, 30, 28, 2, 27, 3, 13, 19, 14, 16, 15, 37, 17, 7, 1, 32, 34, 20, 31, 36, 35, 33, 38, 22, 39, 23, 41, 10, 18, 26, 5, 6]\n",
            "con una distancia total de 1660\n"
          ],
          "name": "stdout"
        }
      ]
    },
    {
      "cell_type": "markdown",
      "metadata": {
        "id": "Dsy4TVisPWUs",
        "colab_type": "text"
      },
      "source": [
        "##Recocido simulado"
      ]
    },
    {
      "cell_type": "code",
      "metadata": {
        "id": "Fcr6JllJr35h",
        "colab_type": "code",
        "outputId": "3b7d75af-da4f-428a-d3bc-83f62f5f2397",
        "colab": {
          "base_uri": "https://localhost:8080/",
          "height": 54
        }
      },
      "source": [
        "# RECOCIDO SIMULADO\n",
        "def genera_vecina_aleatorio(solucion):\n",
        "  # Generador de 1 solucion vecina 2-opt (intercambiar 2 nodos)\n",
        "  # Se puede mejorar haciendo que la elección no se uniforme sino entre las que estén más próximas\n",
        "  i = random.choice(range(1, len(solucion)))\n",
        "  j = random.choice(list(set(range(1, len(solucion))) - {i}))\n",
        "  if j < i:\n",
        "    i, j = j, i\n",
        "  vecina = list(solucion[:i] + [solucion[j]] + solucion[i + 1:j] + [solucion[i]] + solucion[j + 1:])\n",
        "  return vecina\n",
        "\n",
        "# Función de probabilidad para determinar si se cambia a una solución peor respecto a la referencia (exponencial)\n",
        "def probabilidad(T, d):\n",
        "  if random.random() <= math.exp(-1*d / T):\n",
        "    return True \n",
        "  else:\n",
        "    return False \n",
        "\n",
        "def bajar_temperatura(T):\n",
        "  return T * .999   # descenso exponencial\n",
        "  \n",
        "def recocido_simulado(problem, TEMPERATURA = 1000):\n",
        "  #problem = datos del problema\n",
        "\n",
        "  solucion_referencia = crear_solucion(Nodos)\n",
        "  distancia_referencia = distancia_total(solucion_referencia, problem)\n",
        "\n",
        "  mejor_solucion = []\n",
        "  mejor_distancia = 10e100   \n",
        "\n",
        "  while TEMPERATURA > 1:\n",
        "    #Genera una solución vecina (aleatoria)\n",
        "    vecina = genera_vecina_aleatorio(solucion_referencia)\n",
        "\n",
        "    #Calcula su valor (distancia)\n",
        "    distancia_vecina = distancia_total(vecina, problem)\n",
        "\n",
        "    #Si es la mejor solución de todas se guarda\n",
        "    if distancia_vecina < mejor_distancia:\n",
        "      mejor_solucion = vecina \n",
        "      mejor_distancia = distancia_vecina\n",
        "      # print('\\t****Encontrada mejor solución:', mejor_distancia, mejor_solucion, '\\n')\n",
        "\n",
        "    #Si la nueva vecina es mejor se cambia y si es peor se cambia según una \n",
        "    #probabilidad dependiente de T y de |distancia_referencia - distancia_vecina|\n",
        "    p = probabilidad(TEMPERATURA, abs(distancia_referencia - distancia_vecina))\n",
        "    if distancia_vecina < distancia_referencia or p:\n",
        "      solucion_referencia = vecina \n",
        "      distancia_referencia = distancia_vecina\n",
        "    \n",
        "    TEMPERATURA = bajar_temperatura(TEMPERATURA)\n",
        "\n",
        "  print('La mejor solucion encontrada es:', mejor_distancia, mejor_solucion)\n",
        "  return mejor_solucion\n",
        "\n",
        "sol = recocido_simulado(problem, TEMPERATURA=1000)"
      ],
      "execution_count": 0,
      "outputs": [
        {
          "output_type": "stream",
          "text": [
            "La mejor solucion encontrada es: 1754 [0, 3, 2, 10, 12, 11, 25, 40, 24, 21, 39, 29, 28, 27, 4, 5, 19, 14, 15, 37, 16, 13, 18, 26, 6, 1, 32, 34, 38, 22, 9, 23, 41, 8, 30, 33, 20, 35, 36, 17, 31, 7]\n"
          ],
          "name": "stdout"
        }
      ]
    },
    {
      "cell_type": "markdown",
      "metadata": {
        "id": "PNxF29RzPXpL",
        "colab_type": "text"
      },
      "source": [
        "##Colonia de hormigas"
      ]
    },
    {
      "cell_type": "code",
      "metadata": {
        "id": "BB_fD4LKxQmy",
        "colab_type": "code",
        "outputId": "8c87f152-c703-43be-e03f-5a618d71588a",
        "colab": {
          "base_uri": "https://localhost:8080/",
          "height": 54
        }
      },
      "source": [
        "# COLONIA DE HORMIGAS\n",
        "\n",
        "def hormigas(problem, N, alfa=1, beta=1):\n",
        "  #problem = datos del problema\n",
        "  #N = numero de iteraciones\n",
        "\n",
        "  # Nodos\n",
        "  Nodos = list(problem.get_nodes())\n",
        "  #Aristas\n",
        "  Aristas = list(problem.get_edges())\n",
        "\n",
        "  # Inicializa las aristas con una cantidad inicial de feromonas: 1\n",
        "  # Mejora: inicializar con valores diferentes dependiendo diferentes criterios\n",
        "  T = [[1 for _ in range(len(Nodos))] for _ in range(len(Nodos))]\n",
        "  # Se generan los agentes (hormigas) que serán estructuras de caminos desde 0\n",
        "  Hormiga = [[0] for _ in range(N)]\n",
        "\n",
        "  # Recorre cada agente construyendo la solución\n",
        "  for h in range(N):\n",
        "    # Para cada agente se construye un camino\n",
        "    for i in range(len(Nodos) - 1):\n",
        "      #Elige el siguiente nodo\n",
        "      # print(Hormiga[h])\n",
        "      Nuevo_Nodo = Add_Nodo(problem, Hormiga[h], T, alfa, beta)\n",
        "      Hormiga[h].append(Nuevo_Nodo)\n",
        "    # Incrementa feromonas en esa arista\n",
        "    T = Incrementa_Feromona(problem, T, Hormiga[h])\n",
        "    # print('Feromonas(1)', T)\n",
        "\n",
        "    #Evapora Feromonas\n",
        "    T = Evaporar_Feromonas(T)\n",
        "    # print('Feromonas(2)', T)\n",
        "\n",
        "    # Seleccionamos el mejor agente\n",
        "  mejor_solucion = []\n",
        "  mejor_distancia = 10e100\n",
        "  for h in range(N):\n",
        "    distancia_actual = distancia_total(Hormiga[h], problem)\n",
        "    if distancia_actual < mejor_distancia:\n",
        "      mejor_solucion = Hormiga[h]\n",
        "      mejor_distancia = distancia_actual \n",
        "  print('La mejor solucion encontrada es:', mejor_distancia, mejor_solucion)\n",
        "  # return mejor_distancia, mejor_solucion\n",
        "  # print(T)\n",
        "  # print('')\n",
        "  return mejor_distancia, mejor_solucion\n",
        "\n",
        "\n",
        "# Este es el código anterior para añadir nodos. Se ha modificado para mejorar el algoritmo Hormiga\n",
        "# def Add_Nodo(problem, H, T):\n",
        "#   # Mejora: Establecer una funcion de probabilidad para añadir un nuevo nodo\n",
        "#   # dependiendo de los nodos mas cercanos y de las feromonas depositadas\n",
        "#   Nodos = list(problem.get_nodes())\n",
        "#   return random.choice(list(set(range(1, len(Nodos))) - set(H)))\n",
        "\n",
        "################------------ MEJORA ------------################\n",
        "def Add_Nodo(problem, H, T, alfa = 0.212, beta = 10.3):\n",
        "  \n",
        "  Nodos = list(problem.get_nodes())\n",
        "  # Se genera una lista con los valores no asignados hasta el momento\n",
        "  Nodos_no_asignados = list(set(range(1, len(Nodos))) - set(H))\n",
        "  # se determina cuál fue el último nodo estudiado para compararlo con el siguiente\n",
        "  ultimo_nodo = H[len(H)-1]\n",
        "  \n",
        "  # función de probabilidad\n",
        "  termino = []  # <--- almacenará el sumatorio del denominador de la función de probabilidad para cada arista\n",
        "  # para cada nodo no asignado se calculan los parámetros de sus aristas\n",
        "  for i in Nodos_no_asignados:\n",
        "    tau = T[ultimo_nodo][i] ** alfa\n",
        "    nu = (1/distancia(ultimo_nodo, i, problem) ** beta)\n",
        "    termino += [nu * tau]\n",
        "\n",
        "  # Con los valores calculados, se calculan los valores de la función de probabilidad\n",
        "  funcion_prob = []\n",
        "  # para cada valor de los términos calculado\n",
        "  for valor in termino:\n",
        "    # el valor del término entre la suma de todos los términos\n",
        "    funcion_prob += [valor/sum(termino)]\n",
        "  # se genera un número aleatorio entre 0 y 1\n",
        "  # esto servirá como límite de elección del Nodo \n",
        "  valor = random.random() #* sum(termino)\n",
        "\n",
        "  # se selecciona el valor de i en cuanto la suma de todos los valores \n",
        "  # anteriores supera el valor aleatorio previamente calculado\n",
        "  acumulado = 0\n",
        "  for i in range(len(funcion_prob)):\n",
        "    acumulado += funcion_prob[i]\n",
        "    # cuando la función de densidad alcanza el valor aleatorio, se selecciona ese nodo.\n",
        "    if valor < acumulado: break\n",
        "\n",
        "  # se devuelve el nodo con el índice obtenido previamente\n",
        "  return Nodos_no_asignados[i]\n",
        "\n",
        "##############--------- FIN DE LA MEJORA ---------##############\n",
        "\n",
        "def Incrementa_Feromona(problem, T, H):\n",
        "  # Incrementa segun la calidad de la solución. Añadir una cantidad inversamente proporcional a la distancia total\n",
        "  for i in range(len(H) - 1):\n",
        "    T[H[i]][H[i + 1]] += 1000 / distancia_total(H, problem)\n",
        "  return T\n",
        "\n",
        "def Evaporar_Feromonas(T):\n",
        "  # Evapora 0.3 el valor de la feromona, sin que baje de 1\n",
        "  # Mejora: Podemos ejegir diferentes funciones de evaporación dependiendo de la cantidad\n",
        "  # actual y de la suma total de feromonas depositadas...\n",
        "  T = [[max(T[i][j] - 0.3, 1) for i in range(len(Nodos))] for j in range(len(Nodos))]\n",
        "  return T\n",
        "\n",
        "sol = hormigas(problem, 1000, 0.6, 10)\n"
      ],
      "execution_count": 0,
      "outputs": [
        {
          "output_type": "stream",
          "text": [
            "La mejor solucion encontrada es: 1370 [0, 1, 6, 4, 3, 2, 27, 28, 29, 30, 32, 34, 20, 33, 38, 22, 39, 21, 40, 24, 9, 23, 41, 8, 10, 25, 11, 12, 18, 26, 5, 13, 19, 14, 16, 15, 37, 7, 17, 31, 35, 36]\n"
          ],
          "name": "stdout"
        }
      ]
    },
    {
      "cell_type": "code",
      "metadata": {
        "id": "fJL2Oxk05SAM",
        "colab_type": "code",
        "outputId": "e8b136e8-6122-43bc-c7bc-eb902c5eae2c",
        "colab": {
          "base_uri": "https://localhost:8080/",
          "height": 1000
        }
      },
      "source": [
        "# FUERZA BRUTA PARA DETERMINAR LOS MEJORES PARÁMETROS ALFA Y BETA\n",
        "\n",
        "# se va a calcular el algoritmo para distintos valores de alfa y beta una cantidad \n",
        "# de veces y calcular la media de los resultados. Se quedarán los parámetros que den \n",
        "# la mejor media\n",
        "\n",
        "# esto es un script que he utilizado para calcular los distintos valores de los parámetros alfa y beta\n",
        "# por un método iterativo, recorro las soluciones para un rango de valores de alfa y beta. Luego se va\n",
        "# afnando hasta acercarme a un valor concreto para ambos parámetros\n",
        "import numpy as np\n",
        "ciclos  = 5\n",
        "agentes = 1000\n",
        "mejor_alfa = 0\n",
        "mejor_beta = 0\n",
        "mejor_promedio = 5000\n",
        "\n",
        "alfa_min   = 0\n",
        "alfa_max   = 3.3\n",
        "alfa_salto = 0.2\n",
        "\n",
        "beta_min   = 10\n",
        "beta_max   = 11\n",
        "beta_salto = 1.1\n",
        "\n",
        "for i in np.arange(beta_min,beta_max,beta_salto): # para cada valor de beta\n",
        "  for k in np.arange(alfa_min,alfa_max,alfa_salto): # para cada valor de alfa\n",
        "    calculo = 0 # variable donde se sumarán todas las soluciones para calcular la media\n",
        "    for j in range(1,ciclos+1): # se calcula con los mismos parámetros una cantidad de veces\n",
        "      sol = hormigas(problem, agentes, k, i)[0]\n",
        "      calculo += sol  # se suman los resultados\n",
        "    promedio = calculo/ciclos #y se calcula la media\n",
        "    print('Alfa =',k,'|','Beta =', i) \n",
        "    if promedio < mejor_promedio: # si el promedio mejora\n",
        "      mejor_alfa = k\n",
        "      mejor_beta = i\n",
        "      mejor_promedio = promedio\n",
        "      print('|',promedio,'|')\n",
        "    elif promedio*0.95 < mejor_promedio: # si el promedio es muy parecido\n",
        "      print('solución cercana',promedio)\n",
        "    else:\n",
        "      print('no mejora')\n",
        "    print('')\n",
        "print('\\nEl mejor resultado es',mejor_promedio,'para los valores','Alfa =',mejor_alfa,'|','Beta =', mejor_beta)"
      ],
      "execution_count": 0,
      "outputs": [
        {
          "output_type": "stream",
          "text": [
            "La mejor solucion encontrada es: 1378 [0, 1, 6, 5, 26, 18, 12, 11, 25, 10, 8, 23, 41, 9, 39, 21, 40, 24, 22, 38, 30, 29, 28, 2, 27, 3, 4, 32, 34, 20, 33, 35, 36, 31, 17, 37, 15, 14, 16, 19, 13, 7]\n",
            "La mejor solucion encontrada es: 1371 [0, 1, 6, 4, 3, 2, 27, 28, 29, 30, 32, 34, 20, 33, 35, 36, 31, 17, 7, 37, 15, 16, 14, 19, 13, 5, 26, 18, 12, 11, 25, 10, 8, 9, 23, 41, 21, 40, 24, 39, 22, 38]\n",
            "La mejor solucion encontrada es: 1332 [0, 1, 6, 4, 3, 2, 27, 28, 29, 30, 38, 22, 39, 21, 40, 24, 9, 8, 41, 23, 10, 25, 11, 12, 18, 26, 5, 19, 13, 14, 16, 15, 37, 7, 17, 31, 36, 35, 20, 33, 34, 32]\n",
            "La mejor solucion encontrada es: 1346 [0, 1, 6, 4, 3, 27, 2, 28, 29, 30, 38, 22, 39, 21, 40, 24, 41, 23, 9, 8, 10, 25, 11, 12, 18, 26, 5, 13, 19, 14, 16, 15, 37, 7, 17, 31, 35, 36, 20, 34, 33, 32]\n",
            "La mejor solucion encontrada es: 1328 [0, 1, 6, 4, 3, 27, 2, 28, 29, 30, 38, 22, 39, 21, 40, 24, 23, 41, 8, 9, 10, 25, 11, 12, 18, 26, 5, 13, 19, 14, 16, 15, 37, 7, 17, 31, 36, 35, 33, 20, 34, 32]\n",
            "Alfa = 0.0 | Beta = 10.0\n",
            "| 1351.0 |\n",
            "\n",
            "La mejor solucion encontrada es: 1365 [0, 1, 3, 2, 27, 4, 6, 5, 26, 18, 12, 11, 25, 10, 8, 41, 23, 9, 21, 40, 24, 39, 22, 38, 30, 29, 28, 32, 34, 20, 33, 35, 36, 31, 17, 7, 37, 15, 14, 16, 19, 13]\n",
            "La mejor solucion encontrada es: 1337 [0, 1, 6, 26, 5, 19, 13, 18, 12, 11, 25, 10, 8, 9, 23, 41, 40, 24, 21, 39, 22, 38, 30, 29, 28, 27, 2, 3, 4, 7, 14, 16, 15, 37, 17, 31, 36, 35, 20, 33, 34, 32]\n",
            "La mejor solucion encontrada es: 1362 [0, 1, 6, 4, 3, 2, 27, 28, 29, 30, 32, 20, 33, 34, 38, 22, 39, 21, 40, 24, 9, 23, 41, 8, 10, 25, 11, 12, 18, 26, 5, 19, 13, 14, 16, 15, 37, 17, 31, 36, 35, 7]\n",
            "La mejor solucion encontrada es: 1350 [0, 1, 6, 26, 5, 18, 12, 11, 25, 10, 8, 9, 23, 41, 21, 40, 24, 39, 22, 38, 30, 29, 28, 27, 2, 3, 4, 13, 19, 14, 16, 15, 37, 7, 17, 31, 36, 35, 20, 33, 34, 32]\n",
            "La mejor solucion encontrada es: 1365 [0, 1, 6, 4, 3, 2, 27, 28, 30, 29, 22, 38, 39, 21, 40, 24, 23, 41, 9, 8, 10, 25, 11, 12, 18, 26, 5, 19, 13, 16, 14, 15, 37, 7, 17, 31, 36, 35, 33, 34, 20, 32]\n",
            "Alfa = 0.2 | Beta = 10.0\n",
            "solución cercana 1355.8\n",
            "\n",
            "La mejor solucion encontrada es: 1332 [0, 1, 6, 4, 3, 2, 27, 28, 29, 30, 22, 38, 39, 21, 40, 24, 9, 23, 41, 8, 10, 25, 11, 12, 18, 26, 5, 13, 19, 14, 16, 15, 37, 7, 17, 31, 36, 35, 20, 34, 33, 32]\n",
            "La mejor solucion encontrada es: 1361 [0, 1, 6, 4, 3, 2, 27, 28, 29, 30, 32, 34, 20, 33, 38, 22, 39, 21, 40, 24, 23, 41, 9, 8, 10, 25, 11, 12, 18, 26, 5, 13, 19, 16, 14, 15, 37, 17, 31, 36, 35, 7]\n",
            "La mejor solucion encontrada es: 1365 [0, 1, 6, 5, 26, 18, 12, 11, 25, 10, 8, 9, 23, 41, 21, 40, 24, 39, 22, 38, 30, 29, 28, 27, 2, 3, 4, 32, 34, 20, 33, 35, 36, 31, 17, 37, 15, 16, 14, 19, 13, 7]\n",
            "La mejor solucion encontrada es: 1353 [0, 1, 6, 4, 3, 27, 2, 28, 29, 30, 38, 22, 39, 21, 40, 24, 23, 41, 25, 10, 8, 9, 11, 12, 18, 26, 5, 13, 19, 14, 16, 15, 37, 7, 17, 31, 36, 35, 20, 33, 34, 32]\n",
            "La mejor solucion encontrada es: 1356 [0, 1, 6, 4, 3, 2, 27, 28, 29, 30, 22, 38, 39, 21, 40, 24, 9, 23, 41, 8, 10, 25, 11, 12, 18, 26, 5, 13, 19, 14, 16, 15, 37, 7, 17, 31, 35, 36, 20, 34, 33, 32]\n",
            "Alfa = 0.4 | Beta = 10.0\n",
            "solución cercana 1353.4\n",
            "\n",
            "La mejor solucion encontrada es: 1348 [0, 1, 6, 4, 3, 2, 27, 28, 29, 30, 38, 22, 39, 21, 40, 24, 41, 23, 9, 8, 10, 25, 11, 12, 18, 26, 5, 13, 19, 14, 16, 15, 37, 17, 31, 35, 36, 20, 33, 34, 32, 7]\n",
            "La mejor solucion encontrada es: 1307 [0, 1, 6, 4, 3, 2, 27, 28, 29, 30, 38, 22, 39, 21, 40, 24, 9, 23, 41, 8, 10, 25, 11, 12, 18, 26, 5, 13, 19, 14, 16, 15, 37, 7, 17, 31, 36, 35, 20, 34, 33, 32]\n",
            "La mejor solucion encontrada es: 1368 [0, 1, 6, 4, 3, 2, 27, 28, 29, 30, 32, 34, 20, 33, 38, 22, 39, 21, 40, 24, 23, 41, 9, 8, 10, 25, 11, 12, 18, 26, 5, 19, 13, 14, 16, 15, 37, 17, 31, 35, 36, 7]\n",
            "La mejor solucion encontrada es: 1370 [0, 1, 6, 4, 3, 2, 27, 28, 29, 30, 32, 20, 33, 34, 38, 22, 39, 21, 40, 24, 41, 23, 9, 8, 10, 25, 11, 12, 18, 26, 5, 19, 13, 16, 14, 15, 37, 17, 31, 35, 36, 7]\n",
            "La mejor solucion encontrada es: 1340 [0, 1, 6, 4, 3, 2, 27, 28, 29, 30, 22, 38, 39, 21, 40, 24, 23, 41, 9, 8, 10, 25, 11, 12, 18, 26, 5, 13, 19, 14, 16, 15, 37, 7, 17, 31, 36, 35, 20, 34, 33, 32]\n",
            "Alfa = 0.6000000000000001 | Beta = 10.0\n",
            "| 1346.6 |\n",
            "\n",
            "La mejor solucion encontrada es: 1359 [0, 1, 6, 5, 26, 18, 12, 11, 25, 10, 8, 41, 23, 9, 39, 21, 40, 24, 22, 38, 30, 29, 28, 2, 27, 3, 4, 32, 34, 20, 33, 35, 36, 31, 17, 37, 15, 16, 14, 19, 13, 7]\n",
            "La mejor solucion encontrada es: 1326 [0, 1, 6, 4, 3, 2, 27, 28, 29, 30, 38, 22, 39, 21, 40, 24, 41, 23, 9, 8, 10, 25, 11, 12, 18, 26, 5, 13, 19, 16, 14, 15, 37, 7, 17, 31, 36, 35, 20, 34, 33, 32]\n",
            "La mejor solucion encontrada es: 1376 [0, 1, 6, 4, 3, 27, 2, 28, 29, 30, 32, 34, 33, 20, 35, 36, 17, 31, 7, 37, 15, 16, 14, 19, 13, 5, 26, 18, 12, 11, 25, 10, 8, 23, 41, 9, 39, 21, 40, 24, 22, 38]\n",
            "La mejor solucion encontrada es: 1337 [0, 1, 6, 4, 3, 2, 27, 28, 29, 30, 38, 22, 39, 21, 40, 24, 9, 23, 41, 8, 10, 25, 11, 12, 18, 26, 5, 19, 13, 14, 16, 15, 37, 7, 31, 17, 36, 35, 20, 34, 33, 32]\n",
            "La mejor solucion encontrada es: 1382 [0, 1, 6, 4, 3, 2, 27, 28, 29, 30, 32, 20, 33, 34, 38, 22, 39, 21, 40, 24, 9, 23, 41, 8, 10, 25, 12, 11, 18, 26, 5, 13, 19, 16, 14, 15, 37, 7, 17, 31, 35, 36]\n",
            "Alfa = 0.8 | Beta = 10.0\n",
            "solución cercana 1356.0\n",
            "\n",
            "La mejor solucion encontrada es: 1377 [0, 1, 6, 4, 3, 27, 2, 28, 29, 30, 32, 20, 34, 33, 38, 22, 39, 21, 40, 24, 23, 41, 8, 9, 10, 25, 11, 12, 18, 26, 5, 13, 19, 16, 14, 15, 37, 17, 31, 35, 36, 7]\n",
            "La mejor solucion encontrada es: 1339 [0, 1, 6, 4, 3, 2, 27, 28, 29, 30, 22, 38, 39, 21, 40, 24, 9, 23, 41, 8, 10, 25, 11, 12, 18, 26, 5, 13, 19, 16, 14, 15, 37, 7, 17, 31, 35, 36, 20, 33, 34, 32]\n",
            "La mejor solucion encontrada es: 1355 [0, 1, 6, 4, 3, 27, 2, 28, 29, 30, 32, 20, 33, 34, 38, 22, 39, 21, 40, 24, 41, 23, 9, 8, 10, 25, 11, 12, 18, 26, 5, 13, 19, 14, 16, 15, 37, 17, 31, 36, 35, 7]\n",
            "La mejor solucion encontrada es: 1331 [0, 1, 6, 4, 3, 27, 2, 28, 29, 30, 38, 22, 39, 21, 40, 24, 9, 23, 41, 8, 10, 25, 11, 12, 18, 26, 5, 13, 19, 14, 16, 15, 37, 7, 31, 17, 35, 36, 20, 33, 34, 32]\n",
            "La mejor solucion encontrada es: 1363 [0, 1, 6, 5, 26, 18, 12, 11, 25, 10, 8, 23, 41, 9, 39, 21, 40, 24, 22, 38, 30, 29, 28, 27, 2, 3, 4, 19, 13, 14, 16, 15, 37, 7, 17, 31, 36, 35, 20, 33, 34, 32]\n",
            "Alfa = 1.0 | Beta = 10.0\n",
            "solución cercana 1353.0\n",
            "\n",
            "La mejor solucion encontrada es: 1363 [0, 1, 6, 4, 3, 27, 2, 28, 29, 30, 22, 38, 39, 21, 40, 24, 9, 23, 41, 8, 10, 25, 11, 12, 18, 26, 5, 19, 13, 15, 16, 14, 37, 7, 31, 17, 36, 35, 20, 33, 34, 32]\n",
            "La mejor solucion encontrada es: 1383 [0, 1, 6, 4, 3, 27, 2, 28, 29, 30, 32, 34, 20, 33, 35, 36, 17, 31, 7, 37, 15, 14, 16, 19, 13, 5, 26, 18, 12, 11, 25, 10, 8, 9, 23, 41, 21, 40, 24, 39, 22, 38]\n",
            "La mejor solucion encontrada es: 1373 [0, 1, 6, 4, 3, 2, 27, 28, 29, 30, 32, 34, 20, 33, 35, 36, 17, 31, 7, 37, 15, 16, 14, 19, 13, 5, 26, 18, 12, 11, 25, 10, 8, 41, 23, 9, 39, 21, 40, 24, 22, 38]\n",
            "La mejor solucion encontrada es: 1353 [0, 1, 6, 4, 3, 2, 27, 28, 29, 30, 32, 34, 33, 20, 35, 36, 31, 17, 7, 37, 15, 16, 14, 19, 13, 5, 26, 18, 12, 11, 25, 10, 8, 41, 23, 9, 39, 21, 40, 24, 22, 38]\n",
            "La mejor solucion encontrada es: 1350 [0, 1, 6, 26, 5, 19, 13, 18, 12, 11, 25, 10, 8, 41, 23, 9, 39, 21, 40, 24, 22, 38, 30, 29, 28, 2, 27, 3, 4, 32, 34, 33, 20, 35, 36, 31, 17, 37, 15, 14, 16, 7]\n",
            "Alfa = 1.2000000000000002 | Beta = 10.0\n",
            "solución cercana 1364.4\n",
            "\n",
            "La mejor solucion encontrada es: 1382 [0, 1, 6, 4, 3, 27, 2, 28, 29, 30, 32, 20, 34, 33, 35, 36, 17, 31, 7, 37, 15, 14, 16, 19, 13, 5, 26, 18, 12, 11, 25, 10, 8, 41, 23, 9, 39, 21, 40, 24, 22, 38]\n",
            "La mejor solucion encontrada es: 1339 [0, 1, 6, 4, 3, 2, 27, 28, 29, 30, 38, 22, 39, 21, 40, 24, 23, 41, 9, 8, 10, 25, 11, 12, 18, 26, 5, 13, 19, 14, 16, 15, 37, 7, 17, 31, 35, 36, 33, 34, 20, 32]\n",
            "La mejor solucion encontrada es: 1370 [0, 1, 6, 4, 3, 27, 2, 28, 29, 30, 38, 22, 39, 21, 40, 24, 9, 23, 41, 8, 10, 25, 12, 11, 18, 26, 5, 19, 13, 14, 16, 15, 37, 7, 17, 31, 35, 36, 20, 34, 33, 32]\n",
            "La mejor solucion encontrada es: 1329 [0, 1, 6, 4, 3, 27, 2, 28, 29, 30, 32, 20, 33, 34, 38, 22, 39, 21, 40, 24, 9, 23, 41, 8, 10, 25, 11, 12, 18, 26, 5, 13, 19, 14, 16, 15, 37, 17, 31, 35, 36, 7]\n",
            "La mejor solucion encontrada es: 1329 [0, 1, 6, 4, 3, 2, 27, 28, 29, 30, 32, 20, 33, 34, 38, 22, 39, 21, 40, 24, 9, 23, 41, 8, 10, 25, 11, 12, 18, 26, 5, 13, 19, 14, 16, 15, 37, 17, 31, 35, 36, 7]\n",
            "Alfa = 1.4000000000000001 | Beta = 10.0\n",
            "solución cercana 1349.8\n",
            "\n",
            "La mejor solucion encontrada es: 1383 [0, 1, 6, 5, 26, 18, 12, 11, 25, 10, 8, 41, 23, 9, 39, 21, 40, 24, 22, 38, 30, 29, 28, 27, 2, 3, 4, 32, 34, 20, 33, 35, 36, 17, 31, 7, 37, 15, 16, 14, 19, 13]\n",
            "La mejor solucion encontrada es: 1356 [0, 1, 6, 4, 3, 2, 27, 28, 29, 30, 22, 38, 39, 21, 40, 24, 9, 23, 41, 8, 10, 25, 11, 12, 18, 26, 5, 13, 19, 14, 16, 15, 37, 7, 17, 31, 35, 36, 20, 34, 33, 32]\n",
            "La mejor solucion encontrada es: 1344 [0, 1, 6, 4, 3, 2, 27, 28, 29, 30, 32, 20, 33, 34, 38, 22, 39, 21, 40, 24, 41, 23, 9, 8, 10, 25, 11, 12, 18, 26, 5, 13, 19, 14, 16, 15, 37, 17, 31, 35, 36, 7]\n",
            "La mejor solucion encontrada es: 1361 [0, 1, 6, 4, 3, 27, 2, 28, 29, 30, 32, 34, 33, 20, 35, 36, 17, 31, 7, 37, 15, 16, 14, 19, 13, 5, 26, 18, 12, 11, 25, 10, 8, 41, 23, 9, 39, 21, 40, 24, 22, 38]\n",
            "La mejor solucion encontrada es: 1360 [0, 1, 6, 4, 3, 2, 27, 28, 30, 29, 38, 22, 39, 21, 40, 24, 9, 23, 41, 8, 10, 25, 11, 12, 18, 26, 5, 19, 13, 14, 16, 15, 37, 7, 17, 31, 35, 36, 33, 20, 34, 32]\n",
            "Alfa = 1.6 | Beta = 10.0\n",
            "solución cercana 1360.8\n",
            "\n",
            "La mejor solucion encontrada es: 1383 [0, 1, 6, 4, 3, 2, 27, 28, 29, 30, 32, 34, 20, 33, 35, 36, 17, 31, 7, 37, 15, 14, 16, 19, 13, 5, 26, 18, 12, 11, 25, 10, 8, 9, 23, 41, 21, 40, 24, 39, 22, 38]\n",
            "La mejor solucion encontrada es: 1349 [0, 1, 6, 4, 3, 2, 27, 28, 29, 30, 32, 34, 20, 33, 38, 22, 39, 21, 40, 24, 9, 23, 41, 8, 10, 25, 11, 12, 18, 26, 5, 13, 19, 14, 16, 15, 37, 17, 31, 36, 35, 7]\n",
            "La mejor solucion encontrada es: 1365 [0, 1, 6, 4, 3, 27, 2, 28, 29, 30, 32, 20, 33, 34, 38, 22, 39, 21, 40, 24, 9, 23, 41, 8, 10, 25, 11, 12, 18, 26, 5, 13, 19, 16, 14, 15, 37, 7, 17, 31, 35, 36]\n",
            "La mejor solucion encontrada es: 1391 [0, 1, 3, 4, 6, 5, 26, 18, 12, 11, 25, 10, 8, 9, 23, 41, 39, 21, 40, 24, 22, 38, 30, 29, 28, 27, 2, 32, 20, 34, 33, 35, 36, 31, 17, 37, 15, 16, 14, 19, 13, 7]\n",
            "La mejor solucion encontrada es: 1365 [0, 1, 6, 4, 3, 2, 27, 28, 29, 30, 38, 22, 39, 21, 40, 24, 23, 41, 9, 8, 10, 25, 11, 12, 18, 26, 5, 19, 13, 16, 14, 15, 37, 7, 17, 31, 35, 36, 20, 34, 33, 32]\n",
            "Alfa = 1.8 | Beta = 10.0\n",
            "solución cercana 1370.6\n",
            "\n",
            "La mejor solucion encontrada es: 1382 [0, 1, 6, 4, 3, 2, 27, 28, 29, 30, 32, 7, 14, 16, 15, 37, 17, 31, 36, 35, 20, 33, 34, 38, 22, 39, 21, 40, 24, 9, 23, 41, 8, 10, 25, 11, 12, 18, 26, 5, 19, 13]\n",
            "La mejor solucion encontrada es: 1343 [0, 1, 6, 26, 5, 19, 13, 18, 12, 11, 25, 10, 8, 41, 23, 9, 21, 40, 24, 39, 22, 38, 30, 29, 28, 27, 2, 3, 4, 32, 34, 20, 33, 35, 36, 31, 17, 37, 15, 16, 14, 7]\n",
            "La mejor solucion encontrada es: 1368 [0, 1, 6, 4, 3, 27, 2, 28, 29, 30, 22, 38, 39, 21, 40, 24, 9, 23, 41, 8, 10, 25, 11, 12, 18, 26, 5, 19, 13, 14, 16, 15, 37, 17, 31, 36, 35, 33, 20, 34, 32, 7]\n",
            "La mejor solucion encontrada es: 1360 [0, 1, 6, 4, 3, 27, 2, 28, 29, 30, 22, 38, 39, 21, 40, 24, 9, 23, 41, 8, 10, 25, 11, 12, 18, 26, 5, 13, 19, 16, 14, 15, 37, 7, 17, 31, 35, 36, 33, 34, 20, 32]\n",
            "La mejor solucion encontrada es: 1364 [0, 1, 6, 4, 3, 27, 2, 28, 29, 30, 32, 34, 20, 33, 38, 22, 39, 21, 40, 24, 41, 23, 9, 8, 10, 25, 11, 12, 18, 26, 5, 13, 19, 14, 16, 15, 37, 17, 31, 36, 35, 7]\n",
            "Alfa = 2.0 | Beta = 10.0\n",
            "solución cercana 1363.4\n",
            "\n",
            "La mejor solucion encontrada es: 1353 [0, 1, 6, 4, 3, 27, 2, 28, 29, 30, 22, 38, 39, 21, 40, 24, 9, 23, 41, 8, 10, 25, 11, 12, 18, 26, 5, 19, 13, 14, 16, 15, 37, 7, 31, 17, 36, 35, 33, 20, 34, 32]\n",
            "La mejor solucion encontrada es: 1352 [0, 1, 6, 4, 3, 27, 2, 28, 29, 30, 22, 38, 39, 21, 40, 24, 41, 23, 9, 8, 10, 25, 11, 12, 18, 26, 5, 19, 13, 16, 14, 15, 37, 7, 17, 31, 36, 35, 20, 33, 34, 32]\n",
            "La mejor solucion encontrada es: 1338 [0, 1, 6, 4, 3, 27, 2, 28, 29, 30, 32, 34, 20, 33, 38, 22, 39, 21, 40, 24, 9, 23, 41, 8, 10, 25, 11, 12, 18, 26, 5, 13, 19, 14, 16, 15, 37, 17, 31, 35, 36, 7]\n",
            "La mejor solucion encontrada es: 1346 [0, 1, 6, 4, 3, 27, 2, 28, 29, 30, 38, 22, 39, 21, 40, 24, 9, 8, 23, 41, 10, 25, 11, 12, 18, 26, 5, 13, 19, 14, 16, 15, 37, 17, 31, 35, 36, 20, 33, 34, 32, 7]\n",
            "La mejor solucion encontrada es: 1425 [0, 1, 6, 4, 3, 27, 2, 28, 29, 30, 32, 20, 34, 33, 35, 36, 31, 17, 37, 15, 16, 14, 19, 13, 5, 26, 18, 12, 11, 25, 10, 8, 9, 23, 41, 39, 21, 40, 24, 22, 38, 7]\n",
            "Alfa = 2.2 | Beta = 10.0\n",
            "solución cercana 1362.8\n",
            "\n",
            "La mejor solucion encontrada es: 1356 [0, 1, 6, 4, 3, 27, 2, 28, 29, 30, 22, 38, 39, 21, 40, 24, 9, 23, 41, 8, 10, 25, 11, 12, 18, 26, 5, 19, 13, 14, 16, 15, 37, 17, 31, 36, 35, 20, 33, 34, 32, 7]\n",
            "La mejor solucion encontrada es: 1348 [0, 1, 6, 4, 3, 2, 27, 28, 29, 30, 38, 22, 39, 21, 40, 24, 41, 23, 9, 8, 10, 25, 11, 12, 18, 26, 5, 13, 19, 14, 16, 15, 37, 17, 31, 35, 36, 20, 33, 34, 32, 7]\n",
            "La mejor solucion encontrada es: 1353 [0, 1, 6, 4, 3, 2, 27, 28, 29, 30, 32, 34, 20, 33, 38, 22, 39, 21, 40, 24, 41, 23, 9, 8, 10, 25, 11, 12, 18, 26, 5, 13, 19, 14, 16, 15, 37, 17, 31, 35, 36, 7]\n",
            "La mejor solucion encontrada es: 1379 [0, 1, 6, 4, 3, 2, 27, 28, 29, 30, 32, 20, 34, 33, 38, 22, 39, 21, 40, 24, 9, 23, 41, 8, 10, 25, 11, 12, 18, 26, 5, 13, 19, 16, 14, 15, 37, 7, 17, 31, 35, 36]\n",
            "La mejor solucion encontrada es: 1366 [0, 1, 6, 4, 3, 2, 27, 28, 29, 30, 32, 20, 33, 34, 38, 22, 39, 21, 40, 24, 41, 23, 9, 8, 10, 25, 11, 12, 18, 26, 5, 19, 13, 14, 16, 15, 37, 17, 31, 35, 36, 7]\n",
            "Alfa = 2.4000000000000004 | Beta = 10.0\n",
            "solución cercana 1360.4\n",
            "\n",
            "La mejor solucion encontrada es: 1344 [0, 1, 6, 4, 3, 27, 2, 28, 30, 29, 22, 38, 39, 21, 40, 24, 23, 41, 9, 8, 10, 25, 11, 12, 18, 26, 5, 19, 13, 14, 16, 15, 37, 7, 17, 31, 36, 35, 20, 33, 34, 32]\n",
            "La mejor solucion encontrada es: 1352 [0, 1, 6, 3, 4, 27, 2, 28, 29, 30, 32, 34, 20, 33, 38, 22, 39, 21, 40, 24, 9, 23, 41, 8, 10, 25, 11, 12, 18, 26, 5, 13, 19, 14, 16, 15, 37, 17, 31, 35, 36, 7]\n",
            "La mejor solucion encontrada es: 1392 [0, 1, 6, 4, 3, 2, 27, 28, 29, 30, 38, 22, 39, 21, 40, 24, 9, 23, 41, 25, 10, 8, 18, 12, 11, 26, 5, 19, 13, 14, 16, 15, 37, 7, 31, 17, 36, 35, 20, 33, 34, 32]\n",
            "La mejor solucion encontrada es: 1341 [0, 1, 6, 4, 3, 2, 27, 28, 29, 30, 22, 38, 39, 21, 40, 24, 9, 23, 41, 8, 10, 25, 11, 12, 18, 26, 5, 19, 13, 14, 16, 15, 37, 7, 31, 17, 36, 35, 20, 33, 34, 32]\n",
            "La mejor solucion encontrada es: 1345 [0, 1, 6, 4, 3, 2, 27, 28, 29, 30, 22, 38, 39, 21, 40, 24, 9, 23, 41, 8, 10, 25, 11, 12, 18, 26, 5, 19, 13, 16, 14, 15, 37, 7, 31, 17, 36, 35, 20, 33, 34, 32]\n",
            "Alfa = 2.6 | Beta = 10.0\n",
            "solución cercana 1354.8\n",
            "\n",
            "La mejor solucion encontrada es: 1383 [0, 1, 6, 4, 3, 27, 2, 28, 29, 30, 22, 38, 39, 21, 40, 24, 9, 23, 41, 10, 8, 25, 11, 12, 18, 26, 5, 19, 13, 14, 16, 15, 37, 7, 17, 31, 35, 36, 20, 33, 34, 32]\n",
            "La mejor solucion encontrada es: 1395 [0, 1, 6, 4, 3, 2, 27, 28, 30, 29, 32, 34, 20, 33, 35, 36, 17, 31, 7, 37, 15, 16, 14, 19, 13, 5, 26, 18, 12, 11, 25, 10, 8, 9, 23, 41, 21, 40, 24, 39, 22, 38]\n",
            "La mejor solucion encontrada es: 1361 [0, 1, 6, 4, 3, 2, 27, 28, 30, 29, 22, 38, 39, 21, 40, 24, 9, 23, 41, 8, 10, 25, 11, 12, 18, 26, 5, 13, 19, 14, 16, 15, 37, 17, 31, 35, 36, 20, 33, 34, 32, 7]\n",
            "La mejor solucion encontrada es: 1359 [0, 1, 6, 4, 3, 2, 27, 28, 29, 30, 32, 20, 33, 34, 38, 22, 39, 21, 40, 24, 23, 41, 8, 9, 10, 25, 11, 12, 18, 26, 5, 13, 19, 14, 16, 15, 37, 17, 31, 35, 36, 7]\n",
            "La mejor solucion encontrada es: 1324 [0, 1, 6, 4, 3, 27, 2, 28, 29, 30, 38, 22, 39, 21, 40, 24, 23, 41, 9, 8, 10, 25, 11, 12, 18, 26, 5, 19, 13, 14, 16, 15, 37, 7, 31, 17, 36, 35, 20, 33, 34, 32]\n",
            "Alfa = 2.8000000000000003 | Beta = 10.0\n",
            "solución cercana 1364.4\n",
            "\n",
            "La mejor solucion encontrada es: 1344 [0, 1, 6, 4, 3, 2, 27, 28, 29, 30, 32, 20, 33, 34, 38, 22, 39, 21, 40, 24, 41, 23, 9, 8, 10, 25, 11, 12, 18, 26, 5, 13, 19, 14, 16, 15, 37, 17, 31, 35, 36, 7]\n",
            "La mejor solucion encontrada es: 1411 [0, 1, 6, 4, 3, 2, 27, 28, 30, 29, 8, 41, 23, 9, 39, 22, 38, 24, 40, 21, 10, 25, 12, 11, 18, 26, 5, 13, 19, 14, 16, 15, 37, 17, 31, 36, 35, 20, 33, 34, 32, 7]\n",
            "La mejor solucion encontrada es: 1374 [0, 1, 6, 3, 4, 27, 2, 28, 29, 30, 38, 22, 39, 21, 40, 24, 9, 23, 41, 8, 10, 25, 11, 12, 18, 26, 5, 19, 13, 16, 15, 14, 37, 17, 31, 36, 35, 33, 20, 34, 32, 7]\n",
            "La mejor solucion encontrada es: 1365 [0, 1, 6, 4, 3, 2, 27, 28, 29, 30, 32, 20, 33, 34, 38, 22, 39, 21, 40, 24, 41, 23, 9, 8, 10, 25, 11, 12, 18, 26, 5, 13, 19, 15, 16, 14, 37, 17, 31, 35, 36, 7]\n",
            "La mejor solucion encontrada es: 1348 [0, 1, 6, 4, 3, 2, 27, 28, 29, 30, 32, 20, 33, 34, 38, 22, 39, 21, 40, 24, 41, 23, 9, 8, 10, 25, 11, 12, 18, 26, 5, 13, 19, 16, 14, 15, 37, 17, 31, 35, 36, 7]\n",
            "Alfa = 3.0 | Beta = 10.0\n",
            "solución cercana 1368.4\n",
            "\n",
            "La mejor solucion encontrada es: 1349 [0, 1, 6, 4, 3, 2, 27, 28, 29, 30, 32, 34, 20, 33, 38, 22, 39, 21, 40, 24, 9, 23, 41, 8, 10, 25, 11, 12, 18, 26, 5, 13, 19, 14, 16, 15, 37, 17, 31, 36, 35, 7]\n",
            "La mejor solucion encontrada es: 1387 [0, 1, 6, 4, 3, 2, 27, 28, 29, 30, 32, 7, 37, 15, 14, 16, 19, 13, 5, 26, 18, 12, 11, 25, 10, 8, 9, 23, 41, 39, 21, 40, 24, 22, 38, 34, 33, 20, 35, 36, 31, 17]\n",
            "La mejor solucion encontrada es: 1335 [0, 1, 6, 4, 3, 2, 27, 28, 29, 30, 22, 38, 39, 21, 40, 24, 9, 23, 41, 8, 10, 25, 11, 12, 18, 26, 5, 13, 19, 14, 16, 15, 37, 7, 17, 31, 35, 36, 20, 33, 34, 32]\n",
            "La mejor solucion encontrada es: 1376 [0, 1, 6, 4, 3, 2, 27, 28, 29, 30, 32, 20, 33, 34, 38, 22, 39, 21, 40, 24, 41, 23, 9, 8, 10, 25, 11, 12, 18, 26, 5, 13, 19, 14, 16, 15, 37, 7, 17, 31, 35, 36]\n",
            "La mejor solucion encontrada es: 1403 [0, 1, 6, 4, 3, 2, 27, 28, 29, 30, 32, 7, 37, 15, 14, 16, 19, 13, 5, 26, 18, 12, 11, 25, 10, 8, 9, 23, 41, 21, 40, 24, 39, 22, 38, 34, 33, 20, 31, 17, 36, 35]\n",
            "Alfa = 3.2 | Beta = 10.0\n",
            "solución cercana 1370.0\n",
            "\n",
            "\n",
            "El mejor resultado es 1346.6 para los valores Alfa = 0.6000000000000001 | Beta = 10.0\n"
          ],
          "name": "stdout"
        }
      ]
    }
  ]
}