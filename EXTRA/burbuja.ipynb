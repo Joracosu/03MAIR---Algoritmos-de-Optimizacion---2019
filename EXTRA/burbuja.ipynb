{
  "nbformat": 4,
  "nbformat_minor": 0,
  "metadata": {
    "colab": {
      "name": "burbuja.ipynb",
      "provenance": [],
      "collapsed_sections": [],
      "include_colab_link": true
    },
    "kernelspec": {
      "name": "python3",
      "display_name": "Python 3"
    }
  },
  "cells": [
    {
      "cell_type": "markdown",
      "metadata": {
        "id": "view-in-github",
        "colab_type": "text"
      },
      "source": [
        "<a href=\"https://colab.research.google.com/github/Joracosu/03MAIR---Algoritmos-de-Optimizacion---2019/blob/master/EXTRA/burbuja.ipynb\" target=\"_parent\"><img src=\"https://colab.research.google.com/assets/colab-badge.svg\" alt=\"Open In Colab\"/></a>"
      ]
    },
    {
      "cell_type": "code",
      "metadata": {
        "id": "YhxjVsLnr1Rj",
        "colab_type": "code",
        "colab": {
          "base_uri": "https://localhost:8080/",
          "height": 50
        },
        "outputId": "ca66f3ae-f22b-4fe9-bced-d55897a03780"
      },
      "source": [
        "def burbuja(lista):\n",
        "  desordenado=False\n",
        "  for i in range(1,len(lista)):\n",
        "      if(lista[i-1] > lista[i]):\n",
        "        desordenado=True\n",
        "        pivote = lista[i-1]\n",
        "        lista[i-1] = lista[i]\n",
        "        lista[i] = pivote\n",
        "  if desordenado: burbuja(lista)\n",
        "  return lista\n",
        "\n",
        "listado=[9,8,7,6,5,4,3,2,1,0]\n",
        "print(listado)\n",
        "listado=burbuja(listado)\n",
        "print(listado)"
      ],
      "execution_count": 23,
      "outputs": [
        {
          "output_type": "stream",
          "text": [
            "[9, 8, 7, 6, 5, 4, 3, 2, 1, 0]\n",
            "[0, 1, 2, 3, 4, 5, 6, 7, 8, 9]\n"
          ],
          "name": "stdout"
        }
      ]
    }
  ]
}