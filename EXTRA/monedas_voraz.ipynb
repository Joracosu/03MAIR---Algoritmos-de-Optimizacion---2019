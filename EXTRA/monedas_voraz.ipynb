{
  "nbformat": 4,
  "nbformat_minor": 0,
  "metadata": {
    "colab": {
      "name": "monedas_voraz.ipynb",
      "provenance": [],
      "include_colab_link": true
    },
    "kernelspec": {
      "name": "python3",
      "display_name": "Python 3"
    }
  },
  "cells": [
    {
      "cell_type": "markdown",
      "metadata": {
        "id": "view-in-github",
        "colab_type": "text"
      },
      "source": [
        "<a href=\"https://colab.research.google.com/github/Joracosu/03MAIR---Algoritmos-de-Optimizacion---2019/blob/master/EXTRA/monedas_voraz.ipynb\" target=\"_parent\"><img src=\"https://colab.research.google.com/assets/colab-badge.svg\" alt=\"Open In Colab\"/></a>"
      ]
    },
    {
      "cell_type": "code",
      "metadata": {
        "id": "x3SD3u8KiNnW",
        "colab_type": "code",
        "colab": {
          "base_uri": "https://localhost:8080/",
          "height": 67
        },
        "outputId": "16ddaeba-4aea-46d8-de4c-9cd655b30695"
      },
      "source": [
        "import numpy as np\n",
        "\n",
        "# suponiendo que el sistema es una secuencia de monedas ordenada de manera ascendente\n",
        "\n",
        "def monedas_voraz(objetivo, sistema, cantidad):\n",
        "  resultado = np.zeros(len(sistema))\n",
        "  cantidad_f = np.zeros(len(sistema))\n",
        "  acumulado = 0\n",
        "  resto = objetivo - acumulado\n",
        "  for i in range(len(sistema)):\n",
        "    indice = len(sistema)-i-1\n",
        "    if int(resto / sistema[indice]) > cantidad[indice]: resultado[indice] = cantidad[indice]\n",
        "    else: resultado[indice] = int(resto / sistema[indice])\n",
        "    cantidad_f[indice] = cantidad[indice] - resultado[indice]\n",
        "    resto = round(resto - sistema[indice] * resultado[indice],12)\n",
        "  if resto == 0: return resultado, cantidad_f\n",
        "  else: \n",
        "    print('No hay cambio suficiente')\n",
        "    return np.zeros(len(sistema)), np.array(cantidad)\n",
        "\n",
        "objetivo = 11.78\n",
        "sistema  = [0.01, 0.02, 0.05, 0.10, 0.20, 0.50, 1.00, 2.00]\n",
        "cantidad = [15  , 15  , 15  , 15   , 15   , 15  , 15  , 15   ]\n",
        "salida = monedas_voraz(objetivo, sistema, cantidad)\n",
        "cambio = salida[0]\n",
        "cantidad = salida[1]\n",
        "\n",
        "print('sistema',np.array(sistema))\n",
        "print('cambio suministrado',cambio)\n",
        "print('cantidad restante en la máquina',cantidad)\n"
      ],
      "execution_count": 156,
      "outputs": [
        {
          "output_type": "stream",
          "text": [
            "sistema [0.01 0.02 0.05 0.1  0.2  0.5  1.   2.  ]\n",
            "cambio suministrado [1. 1. 1. 0. 1. 1. 1. 5.]\n",
            "cantidad restante en la máquina [14. 14. 14. 15. 14. 14. 14. 10.]\n"
          ],
          "name": "stdout"
        }
      ]
    }
  ]
}