{
  "nbformat": 4,
  "nbformat_minor": 0,
  "metadata": {
    "colab": {
      "name": "secuencia_fibonacci.ipynb",
      "provenance": [],
      "include_colab_link": true
    },
    "kernelspec": {
      "name": "python3",
      "display_name": "Python 3"
    }
  },
  "cells": [
    {
      "cell_type": "markdown",
      "metadata": {
        "id": "view-in-github",
        "colab_type": "text"
      },
      "source": [
        "<a href=\"https://colab.research.google.com/github/Joracosu/03MAIR---Algoritmos-de-Optimizacion---2019/blob/master/EXTRA/secuencia_fibonacci.ipynb\" target=\"_parent\"><img src=\"https://colab.research.google.com/assets/colab-badge.svg\" alt=\"Open In Colab\"/></a>"
      ]
    },
    {
      "cell_type": "code",
      "metadata": {
        "id": "ckI4tF2fUMzN",
        "colab_type": "code",
        "colab": {
          "base_uri": "https://localhost:8080/",
          "height": 118
        },
        "outputId": "2ff93bfb-b048-4a0e-be9a-c5291d31361c"
      },
      "source": [
        "import time\n",
        "\n",
        "def sec_fibonacci_recu(ini_1, ini_2, terminos):\n",
        "  if terminos == 1:\n",
        "    return ini_1\n",
        "  elif terminos == 2:\n",
        "    return ini_2\n",
        "  else:\n",
        "    return sec_fibonacci_recu(ini_1, ini_2, terminos - 1) + sec_fibonacci_recu(ini_1, ini_2, terminos - 2)\n",
        "\n",
        "def sec_fibonacci_recu_iter(ini_1, ini_2, terminos):\n",
        "  resultado = ini_1 + ini_2\n",
        "  if terminos <= 3:\n",
        "    return resultado\n",
        "  resultado = sec_fibonacci_recu_iter(ini_2, resultado, terminos-1)\n",
        "  return resultado\n",
        "\n",
        "def sec_fibonacci_iter(ini_1, ini_2, terminos):\n",
        "  resultado=[ini_1, ini_2]\n",
        "  for i in range(2, terminos):\n",
        "    resultado += [resultado[i-2] + resultado[i-1]]\n",
        "  return resultado[len(resultado)-1]\n",
        "\n",
        "\n",
        "prim_1=10\n",
        "prim_2=20\n",
        "terminos=35\n",
        "\n",
        "tiempo_1 = time.time()\n",
        "print(sec_fibonacci_iter(prim_1,prim_2,terminos))\n",
        "tiempo_2 = time.time()\n",
        "print('iterativo',tiempo_2 - tiempo_1)\n",
        "tiempo_3 = time.time()\n",
        "print(sec_fibonacci_recu_iter(prim_1,prim_2,terminos))\n",
        "tiempo_4 = time.time()\n",
        "print('iterativo y recursivo',tiempo_4 - tiempo_3)\n",
        "tiempo_5 = time.time()\n",
        "print(sec_fibonacci_recu(prim_1,prim_2,terminos))\n",
        "tiempo_6 = time.time()\n",
        "print('recursivo',tiempo_6 - tiempo_5)\n"
      ],
      "execution_count": 98,
      "outputs": [
        {
          "output_type": "stream",
          "text": [
            "149303520\n",
            "iterativo 0.0003020763397216797\n",
            "149303520\n",
            "iterativo y recursivo 0.00012826919555664062\n",
            "149303520\n",
            "recursivo 2.5541815757751465\n"
          ],
          "name": "stdout"
        }
      ]
    }
  ]
}