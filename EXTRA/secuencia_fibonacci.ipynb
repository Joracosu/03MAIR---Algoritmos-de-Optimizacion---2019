{
  "nbformat": 4,
  "nbformat_minor": 0,
  "metadata": {
    "colab": {
      "name": "secuencia_fibonacci.ipynb",
      "provenance": [],
      "include_colab_link": true
    },
    "kernelspec": {
      "name": "python3",
      "display_name": "Python 3"
    }
  },
  "cells": [
    {
      "cell_type": "markdown",
      "metadata": {
        "id": "view-in-github",
        "colab_type": "text"
      },
      "source": [
        "<a href=\"https://colab.research.google.com/github/Joracosu/03MAIR---Algoritmos-de-Optimizacion---2019/blob/master/EXTRA/secuencia_fibonacci.ipynb\" target=\"_parent\"><img src=\"https://colab.research.google.com/assets/colab-badge.svg\" alt=\"Open In Colab\"/></a>"
      ]
    },
    {
      "cell_type": "code",
      "metadata": {
        "id": "ckI4tF2fUMzN",
        "colab_type": "code",
        "colab": {
          "base_uri": "https://localhost:8080/",
          "height": 34
        },
        "outputId": "9d4b369a-4101-48aa-b8d3-137cfa1dc7d3"
      },
      "source": [
        "def sec_fibonacci(inicio, terminos):\n",
        "  resultado=[]\n",
        "  for i in range(terminos):\n",
        "    if i < 2:\n",
        "      resultado += [inicio]\n",
        "    else:\n",
        "      resultado += [resultado[i-2] + resultado[i-1]]\n",
        "  print(resultado)\n",
        "\n",
        "sec_fibonacci(5,10)"
      ],
      "execution_count": 10,
      "outputs": [
        {
          "output_type": "stream",
          "text": [
            "[5, 5, 10, 15, 25, 40, 65, 105, 170, 275]\n"
          ],
          "name": "stdout"
        }
      ]
    }
  ]
}