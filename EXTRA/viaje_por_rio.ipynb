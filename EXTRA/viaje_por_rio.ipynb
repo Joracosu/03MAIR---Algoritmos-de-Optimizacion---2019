{
  "nbformat": 4,
  "nbformat_minor": 0,
  "metadata": {
    "colab": {
      "name": "viaje_por_rio.ipynb",
      "provenance": [],
      "include_colab_link": true
    },
    "kernelspec": {
      "name": "python3",
      "display_name": "Python 3"
    }
  },
  "cells": [
    {
      "cell_type": "markdown",
      "metadata": {
        "id": "view-in-github",
        "colab_type": "text"
      },
      "source": [
        "<a href=\"https://colab.research.google.com/github/Joracosu/03MAIR---Algoritmos-de-Optimizacion---2019/blob/master/EXTRA/viaje_por_rio.ipynb\" target=\"_parent\"><img src=\"https://colab.research.google.com/assets/colab-badge.svg\" alt=\"Open In Colab\"/></a>"
      ]
    },
    {
      "cell_type": "code",
      "metadata": {
        "id": "QHVsbSDiG1oj",
        "colab_type": "code",
        "colab": {
          "base_uri": "https://localhost:8080/",
          "height": 34
        },
        "outputId": "4d8c872c-7e76-4049-e9c7-fcd6ef4074f4"
      },
      "source": [
        "def coste_trayectos(costes):\n",
        "  for i in range(len(costes)):\n",
        "    for j in range(len(costes)):\n",
        "      # para cada nodo se va a calcular el menor coste para llegar a los otros\n",
        "      costes[i][j] = coste_menor(costes, i, j)\n",
        "  return costes\n",
        "\n",
        "def coste_menor(costes, inicio, fin):\n",
        "  if inicio == fin: gasto = 0     # el coste de ir de un nodo a si mismo es 0\n",
        "  else: gasto = max(max(costes))  # en caso contrario iniciamos en el máximo\n",
        "  if inicio < fin:  # en caso de ir rio abajo\n",
        "    for i in range(inicio + 1, fin + 1):  \n",
        "      # se calcula el mínimo para cada posible trayecto de manera recursiva\n",
        "      # con todos los saltos intermedios entre embarcaderos como permutaciones\n",
        "      gasto = min(gasto, costes[inicio][i] + coste_menor(costes, i, fin))\n",
        "  # el caso de ir rio arriba se omite puesto que no se puede.\n",
        "  return gasto\n",
        "\n",
        "\n",
        "# tabla que contiene el coste de pasar de un nodo al siguiente\n",
        "#   INDICE             0   1   2   3   4   5   6\n",
        "coste_embarcadero = [[ 0,  5,  4,  3, 99, 99, 99],   # 0\n",
        "                     [99,  0, 99,  2,  3, 99, 11],   # 1\n",
        "                     [99, 99,  0,  1, 99,  4, 10],   # 2\n",
        "                     [99, 99, 99,  0,  5,  6,  9],   # 3\n",
        "                     [99, 99, 99, 99,  0, 99,  4],   # 4\n",
        "                     [99, 99, 99, 99, 99,  0,  3],   # 5\n",
        "                     [99, 99, 99, 99, 99, 99,  0]]   # 6\n",
        "\n",
        "punto_inicial = 0\n",
        "punto_final = 6\n",
        "print(coste_trayectos(coste_punto)[punto_inicial][punto_final])"
      ],
      "execution_count": 19,
      "outputs": [
        {
          "output_type": "stream",
          "text": [
            "11\n"
          ],
          "name": "stdout"
        }
      ]
    }
  ]
}